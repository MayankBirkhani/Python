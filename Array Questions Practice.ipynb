{
 "cells": [
  {
   "cell_type": "code",
   "execution_count": 9,
   "id": "e828b53b",
   "metadata": {},
   "outputs": [
    {
     "name": "stdout",
     "output_type": "stream",
     "text": [
      "9\n"
     ]
    }
   ],
   "source": [
    "# Question 1: Find the Maximum Element. \n",
    "#Interviewer: Given the array [5, 7, 1, 2, 9, 3], can you write a program to find the maximum element in the array?\n",
    "\n",
    "arr = [5, 7, 1, 2, 9, 3] \n",
    "\n",
    "max = arr[0]\n",
    "for i in arr:\n",
    "    if i > max:\n",
    "        max= i\n",
    "        \n",
    "    \n",
    "print(max)\n"
   ]
  },
  {
   "cell_type": "code",
   "execution_count": 30,
   "id": "9fa7141c",
   "metadata": {},
   "outputs": [
    {
     "name": "stdout",
     "output_type": "stream",
     "text": [
      "5\n",
      "[5, 6, 2, 9, 4]\n"
     ]
    }
   ],
   "source": [
    "#Question 2: Reverse an Array\n",
    "#Interviewer: Please write a program to reverse the elements of the array [4, 9, 2, 6, 5] without using extra space.\n",
    "\n",
    "arr = [4, 9, 2, 6, 5]\n",
    "\n",
    "size = len(arr)\n",
    "print(size)\n",
    "\n",
    "temp = 0\n",
    "\n",
    "while i < size:\n",
    "    temp=arr[i]\n",
    "    arr[i] = arr[size-i-1]\n",
    "    arr[size-i-1] = temp\n",
    "    i=i+1\n",
    "    \n",
    "print(arr)\n"
   ]
  },
  {
   "cell_type": "code",
   "execution_count": 35,
   "id": "da48825e",
   "metadata": {},
   "outputs": [
    {
     "name": "stdout",
     "output_type": "stream",
     "text": [
      "4\n"
     ]
    }
   ],
   "source": [
    "#Question 3: Find the Missing Number\n",
    "#Interviewer: You're given the array [3, 0, 1, 5, 2], which contains n distinct numbers taken from 0, 1, 2, ..., n. One number is missing. Can you write a program to find the missing number?\n",
    "\n",
    "\n",
    "arr = [3, 0, 1, 5, 2]\n",
    "\n",
    "n = len(arr)\n",
    "\n",
    "actual_sum = 0\n",
    "\n",
    "\n",
    "for i in arr:\n",
    "    actual_sum = actual_sum + i        #actual_sum = sum(arr)\n",
    "\n",
    "expected_sum = n*(n+1)//2\n",
    "\n",
    "missing_num = expected_sum - actual_sum\n",
    "\n",
    "print(missing_num)\n",
    "\n",
    "    "
   ]
  },
  {
   "cell_type": "code",
   "execution_count": 38,
   "id": "0bd4b4da",
   "metadata": {},
   "outputs": [
    {
     "name": "stdout",
     "output_type": "stream",
     "text": [
      "5\n"
     ]
    }
   ],
   "source": [
    "#Question 4: Remove Duplicates\n",
    "#Interviewer: Given the sorted array [1, 1, 2, 2, 2, 3, 4, 4, 5, 5], please write a program to remove duplicates in-place and return the new length of the array.\n",
    "\n",
    "arr = [1, 1, 2, 2, 2, 3, 4, 4, 5, 5]\n",
    "\n",
    "size = len(arr)\n",
    "\n",
    "i=0\n",
    "j=1\n",
    "\n",
    "while(j < size):\n",
    "    if arr[i] != arr[j]:\n",
    "        i= i+1\n",
    "        arr[i]= arr[j]\n",
    "    j=j+1\n",
    "\n",
    "    \n",
    "\n",
    "new_len = i+1\n",
    "\n",
    "print(new_len)\n",
    "\n"
   ]
  },
  {
   "cell_type": "code",
   "execution_count": 45,
   "id": "a9a47d66",
   "metadata": {},
   "outputs": [
    {
     "name": "stdout",
     "output_type": "stream",
     "text": [
      "new array  [1, 5, 7, 3, 4]\n",
      "5\n",
      "[1, 5, 7, 1, 5, 3, 1, 4, 5, 3]\n"
     ]
    }
   ],
   "source": [
    "#Question 6: Remove Duplicates\n",
    "#Interviewer: Given the unsorted array [1, 3, 2, 1, 2, 5, 3, 4, 3, 4], please write a program to remove duplicates in-place and return the new length of the array.\n",
    "\n",
    "def remove_duplicates_new_array(array):\n",
    "  \"\"\"Removes duplicates from an array in new array and returns the new length of the new array.\n",
    "\n",
    "  Args:\n",
    "    array: An unsorted array.\n",
    "\n",
    "  Returns:\n",
    "    The new length of the new array.\n",
    "  \"\"\"\n",
    "\n",
    "  seen = set()\n",
    "  new_array = []\n",
    "  for element in array:\n",
    "    if element not in seen:\n",
    "      seen.add(element)\n",
    "      new_array.append(element)\n",
    "\n",
    "  print(\"new array \",new_array)\n",
    "  return len(new_array)\n",
    "\n",
    "\n",
    "# Example usage:\n",
    "\n",
    "array = [1, 5, 7, 1, 5, 3, 1, 4, 5, 3]\n",
    "new_length = remove_duplicates_new_array(array)\n",
    "print(new_length)\n",
    "print(array)\n"
   ]
  },
  {
   "cell_type": "code",
   "execution_count": 52,
   "id": "1dd84fd4",
   "metadata": {},
   "outputs": [
    {
     "name": "stdout",
     "output_type": "stream",
     "text": [
      "Array->  [1, 3, 2, 5, 4, 5, 3, 4, 3, 4]\n",
      "Array Length->  5\n"
     ]
    }
   ],
   "source": [
    "#Question 6: Remove Duplicates\n",
    "#Interviewer: Given the unsorted array [1, 3, 2, 1, 2, 5, 3, 4, 3, 4], please write a program to remove duplicates in-place and return the new length of the array.\n",
    "\n",
    "def remove_duplicate(arr):\n",
    "    i=0\n",
    "    seen = set()\n",
    "    for element in arr:\n",
    "        if element not in seen:\n",
    "            seen.add(element)\n",
    "            arr[i]=element\n",
    "            i=i+1\n",
    "    print(\"Array-> \",arr)\n",
    "    return i\n",
    "            \n",
    "\n",
    "\n",
    "arr = [1, 3, 2, 1, 2, 5, 3, 4, 3, 4]\n",
    "array_len= remove_duplicate(arr)\n",
    "print(\"Array Length-> \",array_len)\n",
    "\n"
   ]
  },
  {
   "cell_type": "code",
   "execution_count": 54,
   "id": "4ba40d5d",
   "metadata": {},
   "outputs": [
    {
     "name": "stdout",
     "output_type": "stream",
     "text": [
      "3 12\n",
      "8 7\n",
      "12 3\n",
      "7 8\n"
     ]
    }
   ],
   "source": [
    "#Question 5: Two Sum\n",
    "#Interviewer: Write a program to find two numbers in the array [3, 8, 12, 7, 15] that add up to a specific target sum of 15.\n",
    "\n",
    "target = 15 \n",
    "\n",
    "arr = [3, 8, 12, 7, 15]\n",
    "\n",
    "for i in arr:\n",
    "    for j in arr:\n",
    "        if i+j == target:\n",
    "            print(i,j)\n",
    "        else:\n",
    "            j=j+1\n",
    "i=i+1\n"
   ]
  },
  {
   "cell_type": "code",
   "execution_count": 55,
   "id": "c6dc357d",
   "metadata": {},
   "outputs": [
    {
     "name": "stdout",
     "output_type": "stream",
     "text": [
      "[12, 3]\n"
     ]
    }
   ],
   "source": [
    "#Question 5: Two Sum\n",
    "#Interviewer: Write a program to find two numbers in the array [3, 8, 12, 7, 15] that add up to a specific target sum of 15.\n",
    "\n",
    "\n",
    "def find_two_sum(array, target_sum):\n",
    "  \"\"\"Finds two numbers in the array that add up to the target sum.\n",
    "\n",
    "  Args:\n",
    "    array: A list of numbers.\n",
    "    target_sum: The target sum.\n",
    "\n",
    "  Returns:\n",
    "    A list of two numbers that add up to the target sum, or None if no such pair exists.\n",
    "  \"\"\"\n",
    "\n",
    "  seen = set()\n",
    "  for element in array:\n",
    "    complement = target_sum - element\n",
    "    if complement in seen:\n",
    "      return [element, complement]\n",
    "    seen.add(element)\n",
    "  return None\n",
    "\n",
    "\n",
    "# Example usage:\n",
    "\n",
    "array = [3, 8, 12, 7, 15]\n",
    "target_sum = 15\n",
    "\n",
    "result = find_two_sum(array, target_sum)\n",
    "\n",
    "if result is not None:\n",
    "  print(result)\n",
    "else:\n",
    "  print(\"No such pair exists.\")"
   ]
  },
  {
   "cell_type": "code",
   "execution_count": 57,
   "id": "b058b834",
   "metadata": {},
   "outputs": [
    {
     "name": "stdout",
     "output_type": "stream",
     "text": [
      "[8, 2, 3, 7, 1]\n"
     ]
    }
   ],
   "source": [
    "#Question 7: Rotate an Array\n",
    "#Interviewer: Can you write a program to rotate the array [3, 7, 1, 8, 2] to the right by 2 steps?\n",
    "\n",
    "arr = [3, 7, 1, 8, 2]\n",
    "size = len(arr)\n",
    "k= 2%size\n",
    "new_arr= [None]*size\n",
    "\n",
    "for i in range(size):\n",
    "    new_arr[(i+k)%size]=arr[i]\n",
    "print(new_arr)\n",
    "    \n"
   ]
  },
  {
   "cell_type": "code",
   "execution_count": 58,
   "id": "3b1e1b12",
   "metadata": {},
   "outputs": [
    {
     "name": "stdout",
     "output_type": "stream",
     "text": [
      "Target 4 found at index 0\n"
     ]
    }
   ],
   "source": [
    "#Question 8: Search in a Rotated Sorted Array\n",
    "#Interviewer: Given the rotated sorted array [4, 5, 6, 7, 0, 1, 2], please write a program to search for a specific target element, e.g., the number 4.\n",
    "\n",
    "def searchInRotatedArray(nums, target):\n",
    "    left, right = 0, len(nums) - 1\n",
    "\n",
    "    while left <= right:\n",
    "        mid = left + (right - left) // 2\n",
    "\n",
    "        if nums[mid] == target:\n",
    "            return mid\n",
    "\n",
    "        # Check which side of the pivot the mid element is on\n",
    "        if nums[left] <= nums[mid]:\n",
    "            if nums[left] <= target < nums[mid]:\n",
    "                right = mid - 1\n",
    "            else:\n",
    "                left = mid + 1\n",
    "        else:\n",
    "            if nums[mid] < target <= nums[right]:\n",
    "                left = mid + 1\n",
    "            else:\n",
    "                right = mid - 1\n",
    "\n",
    "    return -1  # Target not found\n",
    "\n",
    "# Example usage\n",
    "nums = [4, 5, 6, 7, 0, 1, 2]\n",
    "target = 4\n",
    "result = searchInRotatedArray(nums, target)\n",
    "if result != -1:\n",
    "    print(f\"Target {target} found at index {result}\")\n",
    "else:\n",
    "    print(\"Target not found\")\n"
   ]
  },
  {
   "cell_type": "code",
   "execution_count": 4,
   "id": "54bc551f",
   "metadata": {},
   "outputs": [
    {
     "name": "stdout",
     "output_type": "stream",
     "text": [
      "Duplicate: 1\n",
      "Duplicate: 2\n",
      "Duplicate: 3\n",
      "Duplicate: 4\n"
     ]
    }
   ],
   "source": [
    "#Question 9: Print Duplicates\n",
    "#Interviewer: Given the unsorted array [1, 3, 2, 1, 2, 5, 3, 4, 3, 4], please write a program to print the duplicates.\n",
    "\n",
    "def printDuplicates(arr):\n",
    "    seen = set()  # Create a set to store elements we've seen\n",
    "    duplicates = set()  # Create a set to store duplicates\n",
    "\n",
    "    for num in arr:\n",
    "        if num in seen:\n",
    "            duplicates.add(num)\n",
    "        else:\n",
    "            seen.add(num)\n",
    "\n",
    "    # Print the duplicates\n",
    "    for duplicate in duplicates:\n",
    "        print(\"Duplicate:\", duplicate)\n",
    "\n",
    "# Example usage\n",
    "arr = [1, 3, 2, 1, 2, 5, 3, 4, 3, 4]\n",
    "printDuplicates(arr)"
   ]
  },
  {
   "cell_type": "code",
   "execution_count": 1,
   "id": "56755183",
   "metadata": {},
   "outputs": [
    {
     "name": "stdout",
     "output_type": "stream",
     "text": [
      "Duplicate: e\n",
      "Duplicate: o\n"
     ]
    }
   ],
   "source": [
    "#Question 10: Print Duplicates\n",
    "#Interviewer: Given the unsorted List [\"h\", \"e\", \"l\", \"e\", \"o\", \"o\"], please write a program to print the duplicates.\n",
    "\n",
    "def printDuplicates(elements):\n",
    "    seen = set()  # Create a set to store elements we've seen\n",
    "    duplicates = set()  # Create a set to store duplicates\n",
    "\n",
    "    for element in elements:\n",
    "        if element in seen:\n",
    "            duplicates.add(element)\n",
    "        else:\n",
    "            seen.add(element)\n",
    "\n",
    "    # Print the duplicates\n",
    "    for duplicate in duplicates:\n",
    "        print(\"Duplicate:\", duplicate)\n",
    "\n",
    "# Example usage\n",
    "elements = [\"h\", \"e\", \"l\", \"e\", \"o\", \"o\"]\n",
    "printDuplicates(elements)"
   ]
  },
  {
   "cell_type": "code",
   "execution_count": null,
   "id": "c2185ab8",
   "metadata": {},
   "outputs": [],
   "source": []
  }
 ],
 "metadata": {
  "kernelspec": {
   "display_name": "Python 3 (ipykernel)",
   "language": "python",
   "name": "python3"
  },
  "language_info": {
   "codemirror_mode": {
    "name": "ipython",
    "version": 3
   },
   "file_extension": ".py",
   "mimetype": "text/x-python",
   "name": "python",
   "nbconvert_exporter": "python",
   "pygments_lexer": "ipython3",
   "version": "3.9.12"
  }
 },
 "nbformat": 4,
 "nbformat_minor": 5
}
