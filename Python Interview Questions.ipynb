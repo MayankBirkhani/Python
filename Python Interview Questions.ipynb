{
 "cells": [
  {
   "cell_type": "markdown",
   "id": "85e7e32f",
   "metadata": {},
   "source": [
    "# Searching"
   ]
  },
  {
   "cell_type": "code",
   "execution_count": 4,
   "id": "a56e5f0e",
   "metadata": {},
   "outputs": [
    {
     "name": "stdout",
     "output_type": "stream",
     "text": [
      "5\n",
      "4\n",
      "3\n",
      "2\n",
      "1\n"
     ]
    }
   ],
   "source": [
    "# Q1. Iterating the list in reverse order using for loop:-\n",
    "\n",
    "list1 = [1,2,3,4,5]\n",
    "\n",
    "length = len(list1)\n",
    "\n",
    "\n",
    "for i in range(length-1,-1,-1):\n",
    "    print(list1[i])"
   ]
  },
  {
   "cell_type": "code",
   "execution_count": 10,
   "id": "6eed112e",
   "metadata": {},
   "outputs": [
    {
     "name": "stdout",
     "output_type": "stream",
     "text": [
      "knayaM\n"
     ]
    }
   ],
   "source": [
    "# Q2. Iterating the string in reverse order using for loop:-\n",
    "\n",
    "str = \"Mayank\"\n",
    "l = len(str)\n",
    "nw_str=\"\"\n",
    "\n",
    "for s in range(l-1,-1,-1):\n",
    "    nw_str = nw_str+ \"\".join(str[s])\n",
    "print(nw_str)\n",
    "\n",
    "\n",
    "    \n",
    "    "
   ]
  },
  {
   "cell_type": "code",
   "execution_count": 8,
   "id": "553f4577",
   "metadata": {},
   "outputs": [
    {
     "name": "stdout",
     "output_type": "stream",
     "text": [
      "k\n",
      "n\n",
      "a\n",
      "y\n",
      "a\n",
      "M\n"
     ]
    }
   ],
   "source": [
    "# Q3. Iterating in reverse using while loop\n",
    "\n",
    "str=\"Mayank\"\n",
    "\n",
    "i = len(str)-1\n",
    "\n",
    "while i>=0:\n",
    "    print(str[i])\n",
    "    i-=1"
   ]
  },
  {
   "cell_type": "code",
   "execution_count": 2,
   "id": "87d596e5",
   "metadata": {},
   "outputs": [
    {
     "name": "stdout",
     "output_type": "stream",
     "text": [
      "[5, 4, 3, 2, 1]\n"
     ]
    }
   ],
   "source": [
    "# Q4. Reverse a list\n",
    "\n",
    "mylist1 = [1,2,3,4,5]\n",
    "\n",
    "print(mylist1[::-1])\n"
   ]
  },
  {
   "cell_type": "code",
   "execution_count": 4,
   "id": "3e6f103a",
   "metadata": {},
   "outputs": [
    {
     "name": "stdout",
     "output_type": "stream",
     "text": [
      "vahgaR\n",
      "Whole string is reversed ->  reenigne atad a si knayaM\n",
      "Order of words in string is reversed ->  engineer data a is Mayank\n",
      "String words reversed inplace ->  knayaM si a atad reenigne\n"
     ]
    }
   ],
   "source": [
    "# Q5. Reverse a string\n",
    "\n",
    "mystr = 'Raghav'\n",
    "print(mystr[::-1])\n",
    "\n",
    "str2 = \"Mayank is a data engineer\"\n",
    "\n",
    "###############################################################\n",
    "print(\"Whole string is reversed -> \",str2[::-1])\n",
    "\n",
    "################################################################\n",
    "str3 = str2.split(\" \")\n",
    "str_convrt = str3[::-1]\n",
    "ord_str = \" \".join(str_convrt)\n",
    "print(\"Order of words in string is reversed -> \",ord_str)\n",
    "\n",
    "#################################################################\n",
    "\n",
    "str4 = str2.split()\n",
    "rev_words = [s[::-1] for s in str4]\n",
    "\n",
    "rev_str = ' '.join(rev_words)\n",
    "print(\"String words reversed inplace -> \",rev_str)"
   ]
  },
  {
   "cell_type": "code",
   "execution_count": 11,
   "id": "ce7d45de",
   "metadata": {},
   "outputs": [
    {
     "name": "stdout",
     "output_type": "stream",
     "text": [
      "Mayank m@gmail.com\n",
      "Rohit r@gmail.com\n",
      "Ram ram@gmail.com\n",
      "Mayank m@gmail.com\n",
      "Rohit r@gmail.com\n",
      "Ram ram@gmail.com\n"
     ]
    }
   ],
   "source": [
    "# Q7. Iterate dictionary\n",
    "\n",
    "emails = {\"Mayank\": \"m@gmail.com\",\n",
    "         \"Rohit\": \"r@gmail.com\",\n",
    "         \"Ram\": \"ram@gmail.com\"}\n",
    "\n",
    "# One way:- \n",
    "for k in emails:\n",
    "    print(k,emails[k])\n",
    "    \n",
    "\n",
    "# Another way:-\n",
    "for k,v in emails.items():\n",
    "    print(k,v)"
   ]
  },
  {
   "cell_type": "code",
   "execution_count": 12,
   "id": "2f16ea6a",
   "metadata": {},
   "outputs": [
    {
     "name": "stdout",
     "output_type": "stream",
     "text": [
      "Bon apetite\n"
     ]
    }
   ],
   "source": [
    "# Q8. Check if an item is in the list:-\n",
    "\n",
    "myfood = [\"pizza\",\"burger\",\"rice\",\"noodles\"]\n",
    "\n",
    "if \"rice\" in myfood:\n",
    "    print(\"Bon apetite\")\n",
    "else:\n",
    "    print(\"Still Hungry\")"
   ]
  },
  {
   "cell_type": "code",
   "execution_count": 20,
   "id": "a8821ebe",
   "metadata": {},
   "outputs": [
    {
     "data": {
      "text/plain": [
       "'\\nfor c in range(0,length-1):\\n    print(c,myset[c])\\n    \\n'"
      ]
     },
     "execution_count": 20,
     "metadata": {},
     "output_type": "execute_result"
    }
   ],
   "source": [
    "# Q9. Iterate set using for loop and print values as well as index\n",
    "\n",
    "myset = {'black','white','pink'}\n",
    "length = len(myset)\n",
    "\n",
    "\n",
    "\n",
    "'''\n",
    "for c in range(0,length-1):\n",
    "    print(c,myset[c])\n",
    "    \n",
    "'''"
   ]
  },
  {
   "cell_type": "code",
   "execution_count": 10,
   "id": "59d14a9a",
   "metadata": {},
   "outputs": [
    {
     "name": "stdout",
     "output_type": "stream",
     "text": [
      "num found at index 1\n"
     ]
    }
   ],
   "source": [
    "# Q10. Linear Search Program\n",
    "\n",
    "arr = [3,5,2,1,6]\n",
    "\n",
    "pos = -1\n",
    "n = 5\n",
    "flag = -1\n",
    "\n",
    "for i in arr:\n",
    "    pos+=1\n",
    "    if i == n:\n",
    "        print(\"num found at index {}\".format(pos))\n",
    "        flag = 1\n",
    "\n",
    "if flag==-1:\n",
    "    print(\"num no found!\")\n",
    "    \n"
   ]
  },
  {
   "cell_type": "code",
   "execution_count": null,
   "id": "b6abc619",
   "metadata": {},
   "outputs": [],
   "source": [
    "# Q11. Binary Search Program\n",
    "\n"
   ]
  },
  {
   "cell_type": "code",
   "execution_count": 40,
   "id": "a3797994",
   "metadata": {},
   "outputs": [
    {
     "name": "stdout",
     "output_type": "stream",
     "text": [
      "[1, 2, 3, 4, 5, 7, 8]\n"
     ]
    }
   ],
   "source": [
    "# Q12. Bubble sort program\n",
    "\n",
    "def bubble_sort(arr):\n",
    "    size=len(arr)\n",
    "    \n",
    "    for i in range(size-1):\n",
    "        for j in range(size-1-i):\n",
    "            if arr[j]>arr[j+1]:\n",
    "                temp=arr[j]\n",
    "                arr[j]=arr[j+1]\n",
    "                arr[j+1]=temp\n",
    "\n",
    "\n",
    "    \n",
    "\n",
    "arr = [2,7,1,5,8,3,4]\n",
    "\n",
    "\n",
    "bubble_sort(arr)\n",
    "print(arr)\n",
    "\n"
   ]
  },
  {
   "cell_type": "code",
   "execution_count": 57,
   "id": "9909baa4",
   "metadata": {},
   "outputs": [
    {
     "name": "stdout",
     "output_type": "stream",
     "text": [
      "7\n",
      "Highest element of list  80\n",
      "Second element of list  70\n"
     ]
    }
   ],
   "source": [
    "# Q13. Find the highest number is the list\n",
    "# Find the second highest number in the list\n",
    "\n",
    "list2 = [2,7,1,5,8,3,4]\n",
    "\n",
    "# Using sort function\n",
    "list2.sort()\n",
    "print(list2[-2])\n",
    "\n",
    "\n",
    "# Using bubble sort\n",
    "\n",
    "\n",
    "def sort_arr(list2):\n",
    "    size = len(list2)\n",
    "    for i in range(size-1):\n",
    "        for j in range(size-1-i):\n",
    "            if list2[j] > list2[j+1]:\n",
    "                temp = list2[j]\n",
    "                list2[j]= list2[j+1]\n",
    "                list2[j+1]=temp\n",
    "\n",
    "list3 = [20,70,10,50,80,30,40]\n",
    "sort_arr(list3)\n",
    "\n",
    "print(\"Highest element of list \",list3[-1])\n",
    "print(\"Second element of list \",list3[-2])\n",
    "            \n"
   ]
  },
  {
   "cell_type": "code",
   "execution_count": 58,
   "id": "36de486e",
   "metadata": {},
   "outputs": [
    {
     "name": "stdout",
     "output_type": "stream",
     "text": [
      "[1, 2, 3, 4, 5]\n"
     ]
    }
   ],
   "source": [
    "# Q14. Remove the duplicate numbers from the list\n",
    "\n",
    "list4 = [2,2,1,5,3,4,3,5]\n",
    "\n",
    "new_list4 = list(set(list4))\n",
    "\n",
    "print(new_list4)"
   ]
  },
  {
   "cell_type": "code",
   "execution_count": 21,
   "id": "33059293",
   "metadata": {},
   "outputs": [
    {
     "name": "stdout",
     "output_type": "stream",
     "text": [
      "Duplicate element -> {2, 3, 5}\n"
     ]
    }
   ],
   "source": [
    "# Q15. Print duplicate number from the list (solved using loops)\n",
    "\n",
    "list5 = [2,1,5,3,4,3,5,3,3,2,6]\n",
    "\n",
    "myset = set()\n",
    "for i in range(0,len(list5)):\n",
    "    for j in range(i+1,len(list5)):\n",
    "        if list5[i]==list5[j]:\n",
    "            myset.add(list5[j])\n",
    "    \n",
    "print(\"Duplicate element ->\",myset)\n",
    "    "
   ]
  },
  {
   "cell_type": "code",
   "execution_count": 20,
   "id": "86ec1b9b",
   "metadata": {},
   "outputs": [
    {
     "name": "stdout",
     "output_type": "stream",
     "text": [
      "{1, 2, 3, 4}\n"
     ]
    }
   ],
   "source": [
    "#Question 16: Print Duplicates Solved using set\n",
    "#Interviewer: Given the unsorted array [1, 3, 2, 1, 2, 5, 3, 4, 3, 4], please write a program to print the duplicates.\n",
    "\n",
    "def printDuplicates(arr):\n",
    "    seen = set()  # Create a set to store elements we've seen\n",
    "    duplicates = set()  # Create a set to store duplicates\n",
    "\n",
    "    for num in arr:\n",
    "        if num in seen:\n",
    "            duplicates.add(num)\n",
    "        else:\n",
    "            seen.add(num)\n",
    "\n",
    "    # Print the duplicates\n",
    "\n",
    "    print(duplicates)\n",
    "\n",
    "# Example usage\n",
    "arr = [1, 3, 2, 1, 2, 5, 3, 4, 3, 4]\n",
    "printDuplicates(arr)"
   ]
  },
  {
   "cell_type": "code",
   "execution_count": 3,
   "id": "5d3f7fd3",
   "metadata": {},
   "outputs": [
    {
     "name": "stdout",
     "output_type": "stream",
     "text": [
      "10\n",
      "20\n",
      "30\n",
      "40\n",
      "80\n",
      "60\n",
      "70\n"
     ]
    }
   ],
   "source": [
    "# Q17. Iterate nested list using loop:-\n",
    "\n",
    "my_list = [10, 20, 30, 40, [80, 60, 70]]\n",
    "\n",
    "for element in my_list:\n",
    "    if type(element) == list:\n",
    "        for sub_element in element:\n",
    "            print(sub_element)\n",
    "    else:\n",
    "        print(element)"
   ]
  },
  {
   "cell_type": "code",
   "execution_count": 14,
   "id": "e7373525",
   "metadata": {},
   "outputs": [
    {
     "name": "stdout",
     "output_type": "stream",
     "text": [
      "Printing values of the parent dictonary\n",
      "{'Name': 'Bobby', 'Id': 1, 'Age': 20}\n",
      "{'Name': 'ojaswi', 'Id': 2, 'Age': 22}\n",
      "{'Name': 'rohith', 'Id': 3, 'Age': 20}\n",
      "\n",
      "Printing keys of the child dictonary\n",
      "dict_keys(['Name', 'Id', 'Age'])\n",
      "dict_keys(['Name', 'Id', 'Age'])\n",
      "dict_keys(['Name', 'Id', 'Age'])\n",
      "\n",
      "Printing values of the child dictonary\n",
      "dict_values(['Bobby', 1, 20])\n",
      "dict_values(['ojaswi', 2, 22])\n",
      "dict_values(['rohith', 3, 20])\n",
      "\n",
      "Printing whole dictonary\n",
      "Student 1 {'Name': 'Bobby', 'Id': 1, 'Age': 20}\n",
      "Student 2 {'Name': 'ojaswi', 'Id': 2, 'Age': 22}\n",
      "Student 3 {'Name': 'rohith', 'Id': 3, 'Age': 20}\n"
     ]
    }
   ],
   "source": [
    "# Q18. Iterate nested dictonary:-\n",
    "\n",
    "data = {\n",
    "    'Student 1': {'Name': 'Bobby', 'Id': 1, \"Age\": 20},\n",
    "    'Student 2': {'Name': 'ojaswi', 'Id': 2, \"Age\": 22},\n",
    "    'Student 3': {'Name': 'rohith', 'Id': 3, \"Age\": 20},\n",
    "}\n",
    "\n",
    "print(\"Printing values of the parent dictonary\")\n",
    "for i in data:\n",
    "    print(data[i])\n",
    "    \n",
    "print(\"\\nPrinting keys of the child dictonary\")\n",
    "for i in data:\n",
    "    print(data[i].keys())\n",
    "    \n",
    "print(\"\\nPrinting values of the child dictonary\")\n",
    "for i in data:\n",
    "    print(data[i].values())\n",
    "    \n",
    "print(\"\\nPrinting whole dictonary\")\n",
    "for k,v in data.items():\n",
    "    print(k,v)\n"
   ]
  },
  {
   "cell_type": "code",
   "execution_count": 16,
   "id": "dcbc1e40",
   "metadata": {},
   "outputs": [
    {
     "name": "stdout",
     "output_type": "stream",
     "text": [
      "Array roatated ->  [3, 4, 5, 6, 1, 2]\n"
     ]
    }
   ],
   "source": [
    "# Q19. Rotation array by 2 steps:-\n",
    "# Input array [1, 2, 3, 4, 5, 6]\n",
    "# Rotated list is\n",
    "# [3, 4, 5, 6, 1, 2]\n",
    "\n",
    "\n",
    "arr = [1, 2, 3, 4, 5, 6] \n",
    "\n",
    "size = len(arr)\n",
    "step = 2\n",
    "\n",
    "arr[:] =  arr[step:size] + arr[0:step]\n",
    "\n",
    "print(\"Array roatated -> \",arr)\n"
   ]
  },
  {
   "cell_type": "code",
   "execution_count": 4,
   "id": "0d3be79a",
   "metadata": {},
   "outputs": [
    {
     "name": "stdout",
     "output_type": "stream",
     "text": [
      "{'maths': 110, 'english': 111}\n"
     ]
    }
   ],
   "source": [
    "# Q20.Demonstrating how to increase the values in a dictnary\n",
    "\n",
    "marks = {\"maths\":10, \"english\":11}\n",
    "\n",
    "for k in marks:\n",
    "    marks[k] += 100\n",
    "\n",
    "print(marks)"
   ]
  },
  {
   "cell_type": "code",
   "execution_count": 12,
   "id": "ac9f9143",
   "metadata": {},
   "outputs": [
    {
     "data": {
      "text/plain": [
       "True"
      ]
     },
     "execution_count": 12,
     "metadata": {},
     "output_type": "execute_result"
    }
   ],
   "source": [
    "# Q21. Anagram String: a = geeksforgeeks, b = forgeeksgeeks\n",
    "\n",
    "# Approach :- The idea is to sort both the strings and compare the string character by character if these two strings are equal then these are anagrams otherwise not an anagrams\n",
    "\n",
    "\n",
    "class Solution:\n",
    "    \n",
    "    #Function is to check whether two strings are anagram of each other or not.\n",
    "    def isAnagram(self,a,b):\n",
    "        #code here\n",
    "        freq = {}\n",
    "        \n",
    "        if len(a) != len(b):\n",
    "            return False\n",
    "    \n",
    "    # storing the character and count of character in string a\n",
    "        for i in a:\n",
    "            if i in freq.keys():\n",
    "                freq[i] += 1\n",
    "            else:\n",
    "                freq[i] = 1\n",
    "                \n",
    "    # checking the character and subtracting the count for string b\n",
    "        for i in b:\n",
    "            if i not in freq.keys():\n",
    "                return False\n",
    "            else:\n",
    "                freq[i] -= 1\n",
    "                \n",
    "    # Checking the character count in dict\n",
    "        for i in freq.keys():\n",
    "            if freq[i]!=0:\n",
    "                return False\n",
    "            \n",
    "        return True\n",
    "                \n",
    "s = Solution()\n",
    "\n",
    "s.isAnagram(\"geeksforgeeks\",\"forgeeksgeeks\")\n"
   ]
  },
  {
   "cell_type": "code",
   "execution_count": 5,
   "id": "7b25baa1",
   "metadata": {},
   "outputs": [
    {
     "name": "stdout",
     "output_type": "stream",
     "text": [
      "{([])} output -> True\n",
      "[(]) output -> False\n"
     ]
    }
   ],
   "source": [
    "# Q22. Balanced Parenthesis\n",
    "\n",
    "# We can use stack to solve this problem. The idea is to put all the opening brackets in the stack . Whenever there is closing bracket we check with the top element of the stack that both of them are of the same nature or not. If this holds then pop from the stack and continue iteration . In the end if stack is empty it means all the brackets are balanced .\n",
    "\n",
    "\n",
    "class Solution:\n",
    "    \n",
    "    #Function to check if brackets are balanced or not.\n",
    "    def ispar(self,x):\n",
    "        # code here\n",
    "        stack = []\n",
    "        \n",
    "        for char in x:\n",
    "            if char in ['{','(','[']:\n",
    "                stack.append(char)\n",
    "            else:\n",
    "                if len(stack) == 0:\n",
    "                    return False\n",
    "                    \n",
    "                if char == '}':\n",
    "                    if stack[-1]=='{':\n",
    "                       stack.pop()\n",
    "                       continue\n",
    "                    \n",
    "                if char == ')':\n",
    "                    if stack[-1] == '(':\n",
    "                        stack.pop()\n",
    "                        continue\n",
    "                    \n",
    "                if char == ']':\n",
    "                    if stack[-1] == '[':\n",
    "                        stack.pop()\n",
    "                        continue\n",
    "                    \n",
    "                else:\n",
    "                    return False\n",
    "\n",
    "        if len(stack) != 0:\n",
    "            return False\n",
    "        return True\n",
    "    \n",
    "\n",
    "\n",
    "s = Solution()\n",
    "print(\"{([])} output ->\",s.ispar('{([])}'))\n",
    "\n",
    "print(\"[(]) output ->\",s.ispar('[(])'))\n"
   ]
  },
  {
   "cell_type": "code",
   "execution_count": 17,
   "id": "92ad7f32",
   "metadata": {},
   "outputs": [
    {
     "data": {
      "text/plain": [
       "7"
      ]
     },
     "execution_count": 17,
     "metadata": {},
     "output_type": "execute_result"
    }
   ],
   "source": [
    "# Q23. Pair count\n",
    "\n",
    "class Solution:\n",
    "    def getPairsCount(self, arr, n, k):\n",
    "        # code here\n",
    "        \n",
    "        count = 0\n",
    "        for i in range(0,n-1):\n",
    "            for j in range(i+1,n):\n",
    "                if arr[i]+arr[j] == k:\n",
    "                    count+=1\n",
    "                    \n",
    "        return count\n",
    "    \n",
    "arr = [1, 1, 1, 1]\n",
    "big_arr = [48,24,99,51,33,39,29,83,74,72,22,46,40,51,67,37,78,76,26,28,76,25,10,65,64,47,34,88,26,49,86,73,73,36,75,5,26,4,39,99,27,12,97,67,63,15,3,92,90]\n",
    "n = 49\n",
    "sum = 50\n",
    "s = Solution()\n",
    "s.getPairsCount(big_arr,n,sum)"
   ]
  },
  {
   "cell_type": "code",
   "execution_count": 9,
   "id": "e10fe6be",
   "metadata": {},
   "outputs": [
    {
     "name": "stdout",
     "output_type": "stream",
     "text": [
      "7\n"
     ]
    }
   ],
   "source": [
    "class Solution:\n",
    "    def getPairsCount(self, arr, n, k):\n",
    "        count = 0\n",
    "        for i in range(n):\n",
    "            for j in range(i+1, n):\n",
    "                if arr[i] + arr[j] == k:\n",
    "                    count += 1\n",
    "        return count\n",
    "\n",
    "big_arr = [48,24,99,51,33,39,29,83,74,72,22,46,40,51,67,37,78,76,26,28,76,25,10,65,64,47,34,88,26,49,86,73,73,36,75,5,26,4,39,99,27,12,97,67,63,15,3,92,90]\n",
    "n = 49\n",
    "sum_value = 50\n",
    "s = Solution()\n",
    "print(s.getPairsCount(big_arr, n, sum_value))\n"
   ]
  },
  {
   "cell_type": "code",
   "execution_count": 10,
   "id": "f5cdc306",
   "metadata": {},
   "outputs": [],
   "source": [
    "# n=10\n",
    "\n",
    "# for i in range(n):\n",
    "#     print(\"****Value of i->*****\",i)\n",
    "#     for j in range(i+1, n):\n",
    "#         print(\"Value of j->\",j)\n",
    "            "
   ]
  },
  {
   "cell_type": "code",
   "execution_count": 4,
   "id": "1ac1c108",
   "metadata": {},
   "outputs": [
    {
     "name": "stdout",
     "output_type": "stream",
     "text": [
      "['Sam', 'Ravish', 432, 'Jailer']\n"
     ]
    }
   ],
   "source": [
    "# Q24. Tiger Analytics:-\n",
    "# Make a new list which will contain the elements of nested list\n",
    "\n",
    "lst_elements = [1,2,3,['Sam','Ravish'],45,[432,'Jailer'],43,'Sam']\n",
    "\n",
    "new_list = []\n",
    "\n",
    "for ele in lst_elements:\n",
    "    if type(ele) == list:\n",
    "        for nst_elm in ele:\n",
    "            new_list.append(nst_elm)\n",
    "        \n",
    "print(new_list)\n",
    "        "
   ]
  },
  {
   "cell_type": "code",
   "execution_count": 5,
   "id": "4453ceba",
   "metadata": {},
   "outputs": [
    {
     "name": "stdout",
     "output_type": "stream",
     "text": [
      "a\n",
      "c\n",
      "e\n"
     ]
    }
   ],
   "source": [
    "# Q25. Tiger Analytics:-\n",
    "# Write python code to find out the key from dictionary/map where v>100 \n",
    "\n",
    "my_map = {'a': 150,'b': 75,'c': 200,'d': 50,'e': 300}\n",
    "\n",
    "for k,v in my_map.items():\n",
    "    if v>100:\n",
    "        print(k)\n"
   ]
  },
  {
   "cell_type": "code",
   "execution_count": 5,
   "id": "63be0357",
   "metadata": {},
   "outputs": [
    {
     "name": "stdout",
     "output_type": "stream",
     "text": [
      "Mayank Birkhani\n"
     ]
    }
   ],
   "source": [
    "#Q26.Make name and surname first letter capital\n",
    "\n",
    "def convertCase(str):\n",
    "    newStr = \"\"\n",
    "    arr = str.split(\" \")\n",
    "    \n",
    "    for x in arr:\n",
    "        newStr = newStr + x[0:1].upper() + x[1:len(x)] + \" \"\n",
    "        \n",
    "    print(newStr.rstrip())\n",
    "\n",
    "convertCase('mayank birkhani')\n"
   ]
  },
  {
   "cell_type": "code",
   "execution_count": 7,
   "id": "d0e5f9d6",
   "metadata": {},
   "outputs": [
    {
     "name": "stdout",
     "output_type": "stream",
     "text": [
      "target sum ->  3 12\n",
      "target sum ->  8 7\n",
      "target sum ->  12 3\n",
      "target sum ->  7 8\n"
     ]
    }
   ],
   "source": [
    "#Question 27: Two Sum\n",
    "#Interviewer: Write a program to find two numbers in the array [3, 8, 12, 7, 15] that add up to a specific target sum of 15.\n",
    "\n",
    "target = 15\n",
    "\n",
    "arr = [3, 8, 12, 7, 15]\n",
    "\n",
    "for i in arr:\n",
    "    for j in arr:\n",
    "        if i+j == target:\n",
    "            print(\"target sum -> \",i,j)\n",
    "        else:\n",
    "            j=j+1\n",
    "\n",
    "i=i+1"
   ]
  },
  {
   "cell_type": "code",
   "execution_count": 8,
   "id": "75fc3c91",
   "metadata": {},
   "outputs": [
    {
     "name": "stdout",
     "output_type": "stream",
     "text": [
      "[[12, 3], [7, 8]]\n"
     ]
    }
   ],
   "source": [
    "def find_two_sum(array, target_sum):\n",
    "  \"\"\"Finds all pairs of numbers in the array that add up to the target sum.\n",
    "\n",
    "  Args:\n",
    "    array: A list of numbers.\n",
    "    target_sum: The target sum.\n",
    "\n",
    "  Returns:\n",
    "    A list of all pairs of numbers that add up to the target sum, or an empty list if no such pair exists.\n",
    "  \"\"\"\n",
    "\n",
    "  results = []\n",
    "  seen = set()\n",
    "  for element in array:\n",
    "    complement = target_sum - element\n",
    "    if complement in seen:\n",
    "      results.append([element, complement])\n",
    "    seen.add(element)\n",
    "  return results\n",
    "\n",
    "\n",
    "# Example usage:\n",
    "\n",
    "array = [3, 8, 12, 7, 15]\n",
    "target_sum = 15\n",
    "\n",
    "result = find_two_sum(array, target_sum)\n",
    "\n",
    "if result:\n",
    "  print(result)\n",
    "else:\n",
    "  print(\"No such pair exists.\")"
   ]
  },
  {
   "cell_type": "code",
   "execution_count": 11,
   "id": "04e09fde",
   "metadata": {},
   "outputs": [
    {
     "name": "stdout",
     "output_type": "stream",
     "text": [
      "Target 4 found at index 0\n"
     ]
    }
   ],
   "source": [
    "#Question 28: Search in a Rotated Sorted Array\n",
    "#Interviewer: Given the rotated sorted array [4, 5, 6, 7, 0, 1, 2], please write a program to search for a specific target element, e.g., the number 4.\n",
    "\n",
    "def searchInRotatedArray(nums, target):\n",
    "    left, right = 0, len(nums) - 1\n",
    "\n",
    "    while left <= right:\n",
    "        mid = left + (right - left) // 2\n",
    "\n",
    "        if nums[mid] == target:\n",
    "            return mid\n",
    "\n",
    "        # Check which side of the pivot the mid element is on\n",
    "        if nums[left] <= nums[mid]:\n",
    "            if nums[left] <= target < nums[mid]:\n",
    "                right = mid - 1\n",
    "            else:\n",
    "                left = mid + 1\n",
    "        else:\n",
    "            if nums[mid] < target <= nums[right]:\n",
    "                left = mid + 1\n",
    "            else:\n",
    "                right = mid - 1\n",
    "\n",
    "    return -1  # Target not found\n",
    "\n",
    "# Example usage\n",
    "nums = [4, 5, 6, 7, 0, 1, 2]\n",
    "target = 4\n",
    "result = searchInRotatedArray(nums, target)\n",
    "if result != -1:\n",
    "    print(f\"Target {target} found at index {result}\")\n",
    "else:\n",
    "    print(\"Target not found\")"
   ]
  },
  {
   "cell_type": "code",
   "execution_count": 12,
   "id": "277d4b68",
   "metadata": {},
   "outputs": [
    {
     "name": "stdout",
     "output_type": "stream",
     "text": [
      "Duplicate: e\n",
      "Duplicate: o\n"
     ]
    }
   ],
   "source": [
    "#Question 29: Print Duplicates\n",
    "#Interviewer: Given the unsorted List [\"h\", \"e\", \"l\", \"e\", \"o\", \"o\"], please write a program to print the duplicates.\n",
    "\n",
    "def printDuplicates(elements):\n",
    "    seen = set()  # Create a set to store elements we've seen\n",
    "    duplicates = set()  # Create a set to store duplicates\n",
    "\n",
    "    for element in elements:\n",
    "        if element in seen:\n",
    "            duplicates.add(element)\n",
    "        else:\n",
    "            seen.add(element)\n",
    "\n",
    "    # Print the duplicates\n",
    "    for duplicate in duplicates:\n",
    "        print(\"Duplicate:\", duplicate)\n",
    "\n",
    "# Example usage\n",
    "elements = [\"h\", \"e\", \"l\", \"e\", \"o\", \"o\"]\n",
    "printDuplicates(elements)"
   ]
  },
  {
   "cell_type": "code",
   "execution_count": 13,
   "id": "41278d85",
   "metadata": {},
   "outputs": [
    {
     "name": "stdout",
     "output_type": "stream",
     "text": [
      "4\n"
     ]
    }
   ],
   "source": [
    "#Question 30: Find the Missing Number\n",
    "#Interviewer: You're given the array [3, 0, 1, 5, 2], which contains n distinct numbers taken from 0, 1, 2, ..., n. One number is missing. Can you write a program to find the missing number?\n",
    "\n",
    "\n",
    "arr = [3, 0, 1, 5, 2]\n",
    "\n",
    "n = len(arr)\n",
    "\n",
    "actual_sum = 0\n",
    "\n",
    "\n",
    "for i in arr:\n",
    "    actual_sum = actual_sum + i        #actual_sum = sum(arr)\n",
    "\n",
    "expected_sum = n*(n+1)//2\n",
    "\n",
    "missing_num = expected_sum - actual_sum\n",
    "\n",
    "print(missing_num)"
   ]
  },
  {
   "cell_type": "code",
   "execution_count": 14,
   "id": "a0cffa74",
   "metadata": {},
   "outputs": [
    {
     "name": "stdout",
     "output_type": "stream",
     "text": [
      "True\n"
     ]
    }
   ],
   "source": [
    "# Q31. Check if the string is palindrome or not\n",
    "\n",
    "def is_palindrome(string):\n",
    "  \"\"\"Checks if the given string is a palindrome.\n",
    "\n",
    "  Args:\n",
    "    string: A string.\n",
    "\n",
    "  Returns:\n",
    "    True if the string is a palindrome, False otherwise.\n",
    "  \"\"\"\n",
    "\n",
    "  return string[::-1] == string\n",
    "\n",
    "string = \"racecar\"\n",
    "is_palindrome = is_palindrome(string)\n",
    "print(is_palindrome)"
   ]
  },
  {
   "cell_type": "code",
   "execution_count": 15,
   "id": "ceec39d1",
   "metadata": {},
   "outputs": [
    {
     "name": "stdout",
     "output_type": "stream",
     "text": [
      "helo wrd\n"
     ]
    }
   ],
   "source": [
    "# Q32. Remove duplicates from the string\n",
    "\n",
    "def remove_duplicate_characters(string):\n",
    "  \"\"\"Removes all duplicate characters from the given string.\n",
    "\n",
    "  Args:\n",
    "    string: A string.\n",
    "\n",
    "  Returns:\n",
    "    A string with no duplicate characters.\n",
    "  \"\"\"\n",
    "\n",
    "  seen = set()\n",
    "  unique_string = \"\"\n",
    "  for character in string:\n",
    "    if character not in seen:\n",
    "      seen.add(character)\n",
    "      unique_string += character\n",
    "  return unique_string\n",
    "\n",
    "\n",
    "string = \"hello world\"\n",
    "unique_string = remove_duplicate_characters(string)\n",
    "print(unique_string)"
   ]
  },
  {
   "cell_type": "code",
   "execution_count": 18,
   "id": "051c75e2",
   "metadata": {},
   "outputs": [
    {
     "name": "stdout",
     "output_type": "stream",
     "text": [
      "l\n"
     ]
    }
   ],
   "source": [
    "# Q33. Finds the most frequent character in the given string.\n",
    "\n",
    "def most_frequent_character(string):\n",
    "  \"\"\"Finds the most frequent character in the given string.\n",
    "\n",
    "  Args:\n",
    "    string: A string.\n",
    "\n",
    "  Returns:\n",
    "    The most frequent character in the string.\n",
    "  \"\"\"\n",
    "\n",
    "  character_counts = {}\n",
    "  for character in string:\n",
    "    if character not in character_counts:\n",
    "      character_counts[character] = 0\n",
    "#       print(character_counts)\n",
    "    character_counts[character] += 1\n",
    "#     print(character_counts)\n",
    "\n",
    "  most_frequent_character = \"\"\n",
    "  most_frequent_count = 0\n",
    "  for character, count in character_counts.items():\n",
    "    if count > most_frequent_count:\n",
    "      most_frequent_character = character\n",
    "      most_frequent_count = count\n",
    "\n",
    "  return most_frequent_character\n",
    "\n",
    "string = \"hello world\"\n",
    "most_frequent_character = most_frequent_character(string)\n",
    "print(most_frequent_character)"
   ]
  },
  {
   "cell_type": "code",
   "execution_count": 4,
   "id": "ba9436c9",
   "metadata": {},
   "outputs": [
    {
     "name": "stdout",
     "output_type": "stream",
     "text": [
      "[8, 2, 3, 7, 1]\n"
     ]
    }
   ],
   "source": [
    "#Question 34: Rotate an Array\n",
    "#Interviewer: Can you write a program to rotate the array [3, 7, 1, 8, 2] to the right by 2 steps?\n",
    "\n",
    "arr = [3, 7, 1, 8, 2]\n",
    "size = len(arr)\n",
    "k= 2%size\n",
    "new_arr= [None]*size\n",
    "\n",
    "for i in range(size):\n",
    "    new_arr[(i+k)%size]=arr[i]\n",
    "print(new_arr)\n",
    "    "
   ]
  },
  {
   "cell_type": "code",
   "execution_count": 2,
   "id": "731c32a4",
   "metadata": {},
   "outputs": [
    {
     "name": "stdout",
     "output_type": "stream",
     "text": [
      "[('A', 10), ('B', 12), ('C', 31)]\n"
     ]
    }
   ],
   "source": [
    "#Q35. Convert dictionary to list of tuples\n",
    "mydict = { 'A': 10, 'B': 12, 'C': 31 }\n",
    "\n",
    "\n",
    "result = list(mydict.items())\n",
    "\n",
    "print(result)"
   ]
  },
  {
   "cell_type": "code",
   "execution_count": 5,
   "id": "80867f33",
   "metadata": {},
   "outputs": [
    {
     "name": "stdout",
     "output_type": "stream",
     "text": [
      "[('TeamC', 82), ('TeamA', 88), ('TeamD', 90), ('TeamB', 97)]\n"
     ]
    }
   ],
   "source": [
    "# Q36. Sort the list of tuples based on the second element (scores)\n",
    "\n",
    "teams_scores = [('TeamA', 88), ('TeamD', 90), ('TeamB', 97), ('TeamC', 82)]\n",
    "\n",
    "sorted_teams_scores = sorted(teams_scores, key=lambda x: x[1])\n",
    "\n",
    "print(sorted_teams_scores)"
   ]
  },
  {
   "cell_type": "code",
   "execution_count": 6,
   "id": "49140ff9",
   "metadata": {},
   "outputs": [
    {
     "name": "stdout",
     "output_type": "stream",
     "text": [
      "[('TeamB', 97), ('TeamD', 90), ('TeamA', 88), ('TeamC', 82)]\n"
     ]
    }
   ],
   "source": [
    "# Q37. Sort the list of tuples based on the second element (scores) in descending order\n",
    "\n",
    "teams_scores = [('TeamA', 88), ('TeamD', 90), ('TeamB', 97), ('TeamC', 82)]\n",
    "\n",
    "sorted_teams_scores_desc = sorted(teams_scores, key=lambda x: x[1], reverse=True)\n",
    "\n",
    "print(sorted_teams_scores_desc)"
   ]
  },
  {
   "cell_type": "code",
   "execution_count": null,
   "id": "943951c4",
   "metadata": {},
   "outputs": [],
   "source": []
  }
 ],
 "metadata": {
  "kernelspec": {
   "display_name": "Python 3 (ipykernel)",
   "language": "python",
   "name": "python3"
  },
  "language_info": {
   "codemirror_mode": {
    "name": "ipython",
    "version": 3
   },
   "file_extension": ".py",
   "mimetype": "text/x-python",
   "name": "python",
   "nbconvert_exporter": "python",
   "pygments_lexer": "ipython3",
   "version": "3.9.12"
  }
 },
 "nbformat": 4,
 "nbformat_minor": 5
}
