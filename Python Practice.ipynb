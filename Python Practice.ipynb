{
 "cells": [
  {
   "cell_type": "markdown",
   "id": "c017fc4f",
   "metadata": {},
   "source": [
    "## Input Output"
   ]
  },
  {
   "cell_type": "code",
   "execution_count": null,
   "id": "bc7d84f2",
   "metadata": {},
   "outputs": [],
   "source": [
    "# Take a normal input from the user\n",
    "\n",
    "name = input(\"Enter your name\")\n",
    "\n",
    "print(\"Hello,\",name)\n"
   ]
  },
  {
   "cell_type": "code",
   "execution_count": null,
   "id": "792dedeb",
   "metadata": {},
   "outputs": [],
   "source": [
    "# Taking input as integer only\n",
    "\n",
    "age = int(input(\"Enter your age \"))\n",
    "\n",
    "print(\"Your age is \",age)"
   ]
  },
  {
   "cell_type": "code",
   "execution_count": null,
   "id": "ed0b2dcb",
   "metadata": {},
   "outputs": [],
   "source": [
    "# Taking multiple inputs\n",
    "\n",
    "a,b = input(\"Enter two values ->\").split()\n",
    "\n",
    "print(\"First number is \",a)\n",
    "print(\"Second number is \",b)"
   ]
  },
  {
   "cell_type": "markdown",
   "id": "f4aef6e1",
   "metadata": {},
   "source": [
    "## String implementation"
   ]
  },
  {
   "cell_type": "code",
   "execution_count": null,
   "id": "161d0fd7",
   "metadata": {},
   "outputs": [],
   "source": [
    "string1 = \"GeeksForGeeks\"\n",
    "\n",
    "print(\"Charcater at first index -> \", string1[0])\n",
    "\n",
    "print(\"Charcater at last index -> \", string1[-1])\n",
    "\n",
    "\n",
    "str2 = \"Geeks for Geeks\"\n",
    "\n",
    "print(\"Slicing from 3rd to 12th character of string -> \", str2[3:12])\n",
    "\n",
    "print(\"Slicing from 3rd to second last character of string -> \", str2[3:-2])\n",
    "\n",
    "str3 = \"Hello world\"\n",
    "\n",
    "print(\"Reversing the string using slicing -> \", str3[::-1])"
   ]
  },
  {
   "cell_type": "code",
   "execution_count": null,
   "id": "242220c4",
   "metadata": {},
   "outputs": [],
   "source": [
    "# Delete second character from the string\n",
    "\n",
    "String1 = \"Hello, I'm a Geek\"\n",
    "\n",
    "String2 = String1[0:2] + String1[3:]\n",
    "print(\"2nd index Character deleted ->\",String2)"
   ]
  },
  {
   "cell_type": "markdown",
   "id": "19d825ee",
   "metadata": {},
   "source": [
    "## List"
   ]
  },
  {
   "cell_type": "code",
   "execution_count": null,
   "id": "4b7dd9ca",
   "metadata": {},
   "outputs": [],
   "source": [
    "# Empty List\n",
    "list = []\n",
    "\n",
    "# List with mix of numbers and characters\n",
    "list2 = ['Geeks',2,1,'for']\n",
    "print(\"Mix list ->\",list2)\n",
    "\n",
    "# Accessing items in List\n",
    "print(\"Accessing items in list -> \",list2[0])\n",
    "\n",
    "#Length of list\n",
    "print(\"Length of the list is -> \",len(list2))"
   ]
  },
  {
   "cell_type": "code",
   "execution_count": null,
   "id": "06f28fbd",
   "metadata": {},
   "outputs": [],
   "source": [
    "# Nested List example\n",
    "\n",
    "list3 = [['Geeks', 'and'], ['Nerd']]\n",
    "\n",
    "print(\"second items of 1st list->\",list3[0][1])\n",
    "print(\"second items of list ->\", list3[1][0])"
   ]
  },
  {
   "cell_type": "code",
   "execution_count": null,
   "id": "5a1755d3",
   "metadata": {},
   "outputs": [],
   "source": [
    "# Last element of list\n",
    "\n",
    "list4 = [1, 2, 'Geeks', 4, 'For', 6, 'Nerd']\n",
    "\n",
    "print(\"last item of list -> \",list4[-1])\n",
    "print(\"third last item of list -> \",list4[-3])"
   ]
  },
  {
   "cell_type": "code",
   "execution_count": 15,
   "id": "9d3f1c48",
   "metadata": {},
   "outputs": [
    {
     "name": "stdout",
     "output_type": "stream",
     "text": [
      "enter the space seperated elements for list: 1 12 13 15\n",
      "List -> ['1', '12', '13', '15']\n"
     ]
    }
   ],
   "source": [
    "# Taking Input of a Python List\n",
    "\n",
    "str = input(\"enter the space seperated elements for list: \")\n",
    "\n",
    "list5 = str.split()\n",
    "\n",
    "print(\"List ->\",list5)\n"
   ]
  },
  {
   "cell_type": "code",
   "execution_count": null,
   "id": "8b5c3557",
   "metadata": {},
   "outputs": [],
   "source": [
    "# Insertion in List\n",
    "list6 = []\n",
    "\n",
    "# Insertion using \"append\"\n",
    "list6.append(1)\n",
    "list6.append(2)\n",
    "list6.append(3)\n",
    "\n",
    "print(\"Items inserted using  append ->\",list6)\n",
    "\n",
    "#Insertion using \"insert\"\n",
    "list6.insert(4,5)\n",
    "print(\"Item inserted using insert -> \", list6)\n",
    "\n",
    "list7 = ['geeks','nerd']\n",
    "\n",
    "list6.append(list7)\n",
    "print(\"Appened a list to existing list\",list6)"
   ]
  },
  {
   "cell_type": "code",
   "execution_count": null,
   "id": "f35ae9d9",
   "metadata": {},
   "outputs": [],
   "source": [
    "# Reversing a list\n",
    "\n",
    "mylist = [1, 2, 3, 4, 5, 'Geek', 'Python']\n",
    "\n",
    "mylist.reverse()\n",
    "print(\"List Reversed \",mylist)"
   ]
  },
  {
   "cell_type": "code",
   "execution_count": null,
   "id": "6e972746",
   "metadata": {},
   "outputs": [],
   "source": [
    "# Removing elements from the list using \"remove\"\n",
    "\n",
    "list = [1, 2, 3, 4, 5, 6, 7, 8, 9, 10, 11, 12]\n",
    "\n",
    "print(\"original list -> \",list)\n",
    "\n",
    "list.remove(5)\n",
    "list.remove(6)\n",
    "\n",
    "print(\"List after removing elements ->\",list)\n",
    "\n",
    "\n",
    "# Removing elements from the list using \"pop\"\n",
    "\n",
    "print(list.pop())\n",
    "print(\"List after using pop function \", list)\n",
    "\n",
    "list.pop(2)\n",
    "print(\"List after using pop function to remove specified postion element \", list)"
   ]
  },
  {
   "cell_type": "code",
   "execution_count": null,
   "id": "fd877dd3",
   "metadata": {},
   "outputs": [],
   "source": [
    "# Slicing List\n",
    "\n",
    "list = ['G', 'E', 'E', 'K', 'S', 'F','O', 'R', 'G', 'E', 'E', 'K', 'S']\n",
    "\n",
    "print(\"Slicing the list\",list[3:8])\n"
   ]
  },
  {
   "cell_type": "code",
   "execution_count": null,
   "id": "09d09c6c",
   "metadata": {},
   "outputs": [],
   "source": [
    "# Finding index of an element in the list\n",
    "\n",
    "fruits = [\"apple\", \"banana\",\"cherry\",\"apple\"] \n",
    "\n",
    "print(\"Index of cherry ->\", fruits.index(\"cherry\"))"
   ]
  },
  {
   "cell_type": "code",
   "execution_count": null,
   "id": "3a07f179",
   "metadata": {},
   "outputs": [],
   "source": [
    "# Using List comprehension generate 10 even numbers\n",
    "\n",
    "list = [2*e for e in range(1,11)]\n",
    "\n",
    "print(\"Generated List ->\",list)\n",
    "\n",
    "\n",
    "list2  = [1, 2, 3, 4, 7, 8, 9, 10, 11, 12]\n",
    "evenlist = [e for e in list2 if e%2==0 ]\n",
    "print(\"Even number List-> \",evenlist)"
   ]
  },
  {
   "cell_type": "code",
   "execution_count": null,
   "id": "3aed9de1",
   "metadata": {},
   "outputs": [],
   "source": [
    "# Map function implementation with a list\n",
    "\n",
    "# myList = [e for e in range(1,11)]\n",
    "# print(myList)\n",
    "\n",
    "l = [2, 4, 6, 8, 10, 12, 14, 16, 18, 20]\n",
    "\n",
    "def cube(x):\n",
    "    return x * x * x\n",
    "\n",
    "newl = list(map(cube,l))\n",
    "print(newl)"
   ]
  },
  {
   "cell_type": "code",
   "execution_count": null,
   "id": "3d4586b5",
   "metadata": {},
   "outputs": [],
   "source": [
    "# Filter function implementation\n",
    "\n",
    "myList = [e for e in range(1,11)]\n",
    "print(myList)\n",
    "\n",
    "def filter_number(x):\n",
    "    return x>4\n",
    "\n",
    "filteredlist = list(filter(filter_number,myList))\n",
    "\n",
    "print(\"Filtered List-> \",filteredlist)"
   ]
  },
  {
   "cell_type": "code",
   "execution_count": null,
   "id": "648659e2",
   "metadata": {},
   "outputs": [],
   "source": [
    "# Implementing lambda function instead of defining a function\n",
    "\n",
    "list2 = [e for e in range(1,11)]\n",
    "\n",
    "cubedlist = list(map(lambda x: x*x*x, list2))\n",
    "\n",
    "print(\"Cube of elements ->\",cubedlist)\n"
   ]
  },
  {
   "cell_type": "markdown",
   "id": "b7185d89",
   "metadata": {},
   "source": [
    "## Tuple"
   ]
  },
  {
   "cell_type": "code",
   "execution_count": null,
   "id": "23f7da9a",
   "metadata": {},
   "outputs": [],
   "source": [
    "# Creating empty tuple\n",
    "\n",
    "myTuple = ()\n",
    "print(\"Empty tuple -> \",myTuple)\n",
    "\n",
    "tuple2 = ('Geeks','nerds')\n",
    "print(\"Tuple using string items -> \", tuple2)\n",
    "\n",
    "list1 = [1,2,3,4,5]\n",
    "tuple3 = tuple(list1)\n",
    "print(\"tuple created using a list -> \",tuple3)\n",
    "\n",
    "tuple4= tuple('Geeks')\n",
    "print(\"Tuple with the help of inbuilt function -> \",tuple4)"
   ]
  },
  {
   "cell_type": "code",
   "execution_count": null,
   "id": "ff2f095e",
   "metadata": {},
   "outputs": [],
   "source": [
    "# Accessing a element in a tuple\n",
    "tuple1 = (\"Geeks\", \"For\", \"Geeks\")\n",
    "print(\"access a element from front ->\",tuple1[1])\n",
    "\n",
    "\n",
    "# concatenating tuples\n",
    "Tuple1 = (0, 1, 2, 3)\n",
    "Tuple2 = ('Geeks', 'For', 'Geeks')\n",
    "\n",
    "Tuple3 = Tuple1 + Tuple2\n",
    "print(\"Concatenated Tuple -> \",Tuple3 )\n",
    "\n",
    "\n",
    "#Accessing tuple from rear\n",
    "\n",
    "print(\"Accessing from rear ->\",Tuple3[-1])"
   ]
  },
  {
   "cell_type": "code",
   "execution_count": null,
   "id": "146a101a",
   "metadata": {},
   "outputs": [],
   "source": [
    "# Deleteing a tuple\n",
    "\n",
    "tup = (1, 5, 3, 6, 8)\n",
    "\n",
    "del tup\n",
    "\n",
    "#print(tup)"
   ]
  },
  {
   "cell_type": "markdown",
   "id": "f8a7da45",
   "metadata": {},
   "source": [
    "## Set"
   ]
  },
  {
   "cell_type": "code",
   "execution_count": null,
   "id": "e01cb4e3",
   "metadata": {},
   "outputs": [],
   "source": [
    "mySet = {'Geeks','for','Geeks'}\n",
    "\n",
    "print(\"set doesn't contains duplicate elements -> \",mySet)"
   ]
  },
  {
   "cell_type": "code",
   "execution_count": null,
   "id": "b070fdea",
   "metadata": {},
   "outputs": [],
   "source": [
    "# Adding new element to the set\n",
    "\n",
    "nameSet = {'Ram','Shyam','Aman'}\n",
    "\n",
    "print(nameSet)\n",
    "\n",
    "nameSet.add('Jai')\n",
    "print(nameSet)"
   ]
  },
  {
   "cell_type": "code",
   "execution_count": null,
   "id": "00343769",
   "metadata": {},
   "outputs": [],
   "source": [
    "# union 2 sets\n",
    "\n",
    "vampires = {\"Karan\", \"Arjun\"}\n",
    "dracula = {\"Deepanshu\", \"Raju\"}\n",
    "\n",
    "print(vampires.union(dracula))"
   ]
  },
  {
   "cell_type": "code",
   "execution_count": null,
   "id": "87605e36",
   "metadata": {},
   "outputs": [],
   "source": [
    "# Intersection of two sets\n",
    "\n",
    "set1 = set()\n",
    "set2 = set()\n",
    "\n",
    "for i in range(1,10):\n",
    "    set1.add(i)\n",
    "\n",
    "for i in range(3,12):\n",
    "    set2.add(i)\n",
    "    \n",
    "print(set1)\n",
    "print(set2)\n",
    "\n",
    "print(\"Intersection of sets \", set1.intersection(set2))"
   ]
  },
  {
   "cell_type": "code",
   "execution_count": null,
   "id": "c9a091b4",
   "metadata": {},
   "outputs": [],
   "source": [
    "# Finding difference between 2 sets\n",
    "\n",
    "set1 = set()\n",
    "set2 = set()\n",
    "\n",
    "for i in range(1,10):\n",
    "    set1.add(i)\n",
    "\n",
    "for i in range(3,12):\n",
    "    set2.add(i)\n",
    "    \n",
    "print(set1)\n",
    "print(set2)\n",
    "\n",
    "print(\"Difference between set1 and set2 ->\",set1-set2)"
   ]
  },
  {
   "cell_type": "code",
   "execution_count": null,
   "id": "5935957c",
   "metadata": {},
   "outputs": [],
   "source": [
    "# Empty the whole set\n",
    "\n",
    "set1 = {1,2,3,4,5,6}\n",
    "print(set1)\n",
    "\n",
    "\n",
    "set1.clear()\n",
    "print(set1)\n"
   ]
  },
  {
   "cell_type": "code",
   "execution_count": null,
   "id": "99967537",
   "metadata": {},
   "outputs": [],
   "source": [
    "# Update function will append the new elements and also reorders\n",
    "\n",
    "set3= {6, 4, 2, 7, 9}\n",
    "\n",
    "update_set = [1, 5, 10]\n",
    "\n",
    "set3.update(update_set)\n",
    "\n",
    "print(\"Updated set -> \",set3)"
   ]
  },
  {
   "cell_type": "code",
   "execution_count": null,
   "id": "af45ee4e",
   "metadata": {},
   "outputs": [],
   "source": [
    "# Remove elements from set\n",
    "\n",
    "set4 = {1, 2, 4, 5, 6, 7, 9, 10}\n",
    "\n",
    "print(set4.pop())\n",
    "\n",
    "print(set4)"
   ]
  },
  {
   "cell_type": "code",
   "execution_count": null,
   "id": "8518a30d",
   "metadata": {},
   "outputs": [],
   "source": [
    "# check if a set contains an element\n",
    "\n",
    "data = {7058, 7059, 7072, 7074, 7076}\n",
    "\n",
    "print(7058 in data)\n",
    "\n",
    "print(7071 not in data)"
   ]
  },
  {
   "cell_type": "markdown",
   "id": "f3639413",
   "metadata": {},
   "source": [
    "## Dictionary"
   ]
  },
  {
   "cell_type": "code",
   "execution_count": 1,
   "id": "08f05016",
   "metadata": {},
   "outputs": [
    {
     "name": "stdout",
     "output_type": "stream",
     "text": [
      "{1: 'Mayank', 2: 'Geek', 3: 'Nerd'}\n",
      "{'name': 'Geeks', 1: [1, 2, 4, 5]}\n",
      "{1: 'Geeks', 2: 'For', 3: {'A': 'Welcome', 'B': 'Geeks'}}\n"
     ]
    }
   ],
   "source": [
    "dict1 = {1:'Mayank',2:'Geek',3:'Nerd'}\n",
    "print(dict1)\n",
    "\n",
    "dict2 = {'name':'Geeks',1:[1,2,4,5]}\n",
    "print(dict2)\n",
    "\n",
    "# nested dictionary\n",
    "dict3 = {1:'Geeks', 2:'For', 3:{'A':'Welcome','B':'Geeks'}}\n",
    "print(dict3)"
   ]
  },
  {
   "cell_type": "code",
   "execution_count": 5,
   "id": "a8d2ab05",
   "metadata": {},
   "outputs": [
    {
     "name": "stdout",
     "output_type": "stream",
     "text": [
      "Geeks\n",
      "{'A': 'Welcome', 'B': 'Geeks'}\n",
      "Geeks\n",
      "------------------\n",
      "Geeks\n",
      "for\n",
      "geeks\n"
     ]
    }
   ],
   "source": [
    "# Accessing Dictionary\n",
    "\n",
    "dict3 = {1:'Geeks', 2:'For', 3:{'A':'Welcome','B':'Geeks'}}\n",
    "\n",
    "print(dict3[1])\n",
    "print(dict3[3])\n",
    "print(dict3[3]['B'])\n",
    "\n",
    "print(\"------------------\")\n",
    "# Printing values using loop\n",
    "test_dict = {\"Geeks\": 1, \"for\": 2, \"geeks\": 3}\n",
    "\n",
    "for i in test_dict:\n",
    "    print(i)"
   ]
  },
  {
   "cell_type": "code",
   "execution_count": 3,
   "id": "13fcf344",
   "metadata": {},
   "outputs": [
    {
     "name": "stdout",
     "output_type": "stream",
     "text": [
      "{1: 'First', 2: 'Second'}\n"
     ]
    }
   ],
   "source": [
    "# Using built in dict function\n",
    "\n",
    "myDict ={}\n",
    "myList = [(1,'First'),(2,'Second')]\n",
    "\n",
    "finalDict = dict(myList)\n",
    "print(finalDict)"
   ]
  },
  {
   "cell_type": "markdown",
   "id": "1f4cc43a",
   "metadata": {},
   "source": [
    "## Class and Object"
   ]
  },
  {
   "cell_type": "code",
   "execution_count": 8,
   "id": "613c87fd",
   "metadata": {},
   "outputs": [
    {
     "name": "stdout",
     "output_type": "stream",
     "text": [
      "Ram is Accountant\n",
      "Shyam is HR\n",
      "Mayank is Software Developer\n"
     ]
    }
   ],
   "source": [
    "class Person:\n",
    "    name = \"Mayank\"\n",
    "    occupation = \"Software Developer\"\n",
    "    networth=4\n",
    "    \n",
    "    def info(self):\n",
    "        print(f\"{self.name} is {self.occupation}\")\n",
    "\n",
    "a = Person()\n",
    "a.name = \"Ram\"\n",
    "a.occupation = \"Accountant\"\n",
    "a.info()\n",
    "\n",
    "b = Person()\n",
    "b.name= \"Shyam\"\n",
    "b.occupation = \"HR\"\n",
    "b.info()\n",
    "\n",
    "c = Person()\n",
    "c.info()"
   ]
  },
  {
   "cell_type": "markdown",
   "id": "47d5f34f",
   "metadata": {},
   "source": [
    "## Constructor"
   ]
  },
  {
   "cell_type": "code",
   "execution_count": 9,
   "id": "39a2daed",
   "metadata": {},
   "outputs": [
    {
     "name": "stdout",
     "output_type": "stream",
     "text": [
      "Hey I am a person\n",
      "Harry is a Developer\n",
      "Hey I am a person\n",
      "Mayank is a Data Engineer\n"
     ]
    }
   ],
   "source": [
    "# Parameterised constructor\n",
    "\n",
    "class Person:\n",
    "    def __init__(self,name,occ):\n",
    "        print(\"Hey I am a person\")\n",
    "        self.name = name\n",
    "        self.occ = occ\n",
    "        \n",
    "    def info(self):\n",
    "        print(f\"{self.name} is a {self.occ}\")\n",
    "        \n",
    "        \n",
    "a= Person(\"Harry\",\"Developer\")\n",
    "a.info()\n",
    "\n",
    "b = Person(\"Mayank\",\"Data Engineer\")\n",
    "b.info()"
   ]
  },
  {
   "cell_type": "markdown",
   "id": "71a24894",
   "metadata": {},
   "source": [
    "## Decorators"
   ]
  },
  {
   "cell_type": "code",
   "execution_count": 11,
   "id": "f98c75cd",
   "metadata": {},
   "outputs": [
    {
     "name": "stdout",
     "output_type": "stream",
     "text": [
      "Good Morning\n",
      "Hello world\n",
      "Thanks for using this function\n"
     ]
    }
   ],
   "source": [
    "def greet(fx):\n",
    "    def mfx():\n",
    "        print(\"Good Morning\")\n",
    "        fx()\n",
    "        print(\"Thanks for using this function\")\n",
    "    return mfx\n",
    "\n",
    "@greet\n",
    "def hello():\n",
    "    print(\"Hello world\")\n",
    "        \n",
    "hello()        \n",
    "  "
   ]
  },
  {
   "cell_type": "code",
   "execution_count": 12,
   "id": "1533f4ea",
   "metadata": {},
   "outputs": [
    {
     "name": "stdout",
     "output_type": "stream",
     "text": [
      "Good Morning\n",
      "50\n",
      "Thanks for using this function\n"
     ]
    }
   ],
   "source": [
    "# Decorators for parameterised function\n",
    "\n",
    "def greet(fx):\n",
    "    def mfx(*args, **kwargs):\n",
    "        print(\"Good Morning\")\n",
    "        fx(*args, **kwargs)\n",
    "        print(\"Thanks for using this function\")\n",
    "    return mfx\n",
    "\n",
    "\n",
    "@greet\n",
    "def add(a,b):\n",
    "    print(a+b)\n",
    "\n",
    "add(20,30)"
   ]
  },
  {
   "cell_type": "markdown",
   "id": "9b83677a",
   "metadata": {},
   "source": [
    "## Inheritance"
   ]
  },
  {
   "cell_type": "code",
   "execution_count": 15,
   "id": "23841688",
   "metadata": {},
   "outputs": [
    {
     "name": "stdout",
     "output_type": "stream",
     "text": [
      "The name of the Employee: 400 is Mayank\n",
      "The name of the Employee: 401 is Mohit\n",
      "The default language is Python\n"
     ]
    }
   ],
   "source": [
    "class Employee:\n",
    "    def __init__(self,name,id):\n",
    "        self.name = name\n",
    "        self.id=id\n",
    "    \n",
    "    def showDetails(self):\n",
    "        print(f\"The name of the Employee: {self.id} is {self.name}\" )\n",
    "        \n",
    "class Programmer(Employee):\n",
    "    def showLanguage(self):\n",
    "        print(\"The default language is Python\")\n",
    "\n",
    "e1 = Employee(\"Mayank\",400)\n",
    "e1.showDetails()\n",
    "\n",
    "e2 = Programmer(\"Mohit\",401)\n",
    "e2.showDetails()\n",
    "e2.showLanguage()"
   ]
  },
  {
   "cell_type": "markdown",
   "id": "f803bf95",
   "metadata": {},
   "source": [
    "## Access modifiers"
   ]
  },
  {
   "cell_type": "code",
   "execution_count": 16,
   "id": "5f4a54ca",
   "metadata": {},
   "outputs": [
    {
     "name": "stdout",
     "output_type": "stream",
     "text": [
      "Mayank\n"
     ]
    }
   ],
   "source": [
    "# Private variable concept\n",
    "\n",
    "class Employee:\n",
    "    def __init__(self):\n",
    "        self.__name = \"Mayank\"    # private class variable\n",
    "        \n",
    "a = Employee()\n",
    "\n",
    "#print(a.__name) # Can't be access indirectly\n",
    "\n",
    "print(a._Employee__name) # Can be accessed indirectly\n"
   ]
  },
  {
   "cell_type": "markdown",
   "id": "e892dede",
   "metadata": {},
   "source": [
    "## Static Methods"
   ]
  },
  {
   "cell_type": "code",
   "execution_count": 22,
   "id": "4d876dc8",
   "metadata": {},
   "outputs": [
    {
     "name": "stdout",
     "output_type": "stream",
     "text": [
      "5\n",
      "11\n"
     ]
    },
    {
     "data": {
      "text/plain": [
       "10"
      ]
     },
     "execution_count": 22,
     "metadata": {},
     "output_type": "execute_result"
    }
   ],
   "source": [
    "class Math:\n",
    "    def __init__(self, num):\n",
    "        self.num = num\n",
    "        \n",
    "    def addtonum(self,n):\n",
    "        self.num = self.num + n\n",
    "        \n",
    "    @staticmethod\n",
    "    def add(a,b):\n",
    "        return a + b\n",
    "    \n",
    "    \n",
    "a= Math(5)\n",
    "print(a.num)\n",
    "\n",
    "a.addtonum(6)\n",
    "print(a.num)\n",
    "\n",
    "#Calling static Method\n",
    "#a.add(8,2)\n",
    "Math.add(8,2)"
   ]
  },
  {
   "cell_type": "markdown",
   "id": "c671a41f",
   "metadata": {},
   "source": [
    "## Instance Vs Class Variable"
   ]
  },
  {
   "cell_type": "code",
   "execution_count": 23,
   "id": "a57c2f8c",
   "metadata": {},
   "outputs": [
    {
     "name": "stdout",
     "output_type": "stream",
     "text": [
      "The name of the Employee is Mayank and employee id is 1 and the raise amount is 0.3\n"
     ]
    }
   ],
   "source": [
    "class Employee:\n",
    "    companyName = \"Deloitte\"\n",
    "    noOfEmployees = 0\n",
    "    \n",
    "    def __init__(self,name):\n",
    "        self.name = name\n",
    "        self.raise_amount = 0.02\n",
    "        Employee.noOfEmployees +=1\n",
    "        \n",
    "    def showDetails(self):\n",
    "        print(f\"The name of the Employee is {self.name} and employee id is {self.noOfEmployees} and the raise amount is {self.raise_amount}\")\n",
    "\n",
    "emp1 = Employee(\"Mayank\")\n",
    "emp1.raise_amount = 0.3\n",
    "emp1.companyName = \"Deloitte USI\"\n",
    "emp1.showDetails()"
   ]
  },
  {
   "cell_type": "markdown",
   "id": "037cfb5a",
   "metadata": {},
   "source": [
    "## dir __dict__ and help "
   ]
  },
  {
   "cell_type": "code",
   "execution_count": 25,
   "id": "021f550f",
   "metadata": {},
   "outputs": [
    {
     "name": "stdout",
     "output_type": "stream",
     "text": [
      "['__add__', '__class__', '__class_getitem__', '__contains__', '__delattr__', '__dir__', '__doc__', '__eq__', '__format__', '__ge__', '__getattribute__', '__getitem__', '__getnewargs__', '__gt__', '__hash__', '__init__', '__init_subclass__', '__iter__', '__le__', '__len__', '__lt__', '__mul__', '__ne__', '__new__', '__reduce__', '__reduce_ex__', '__repr__', '__rmul__', '__setattr__', '__sizeof__', '__str__', '__subclasshook__', 'count', 'index']\n",
      "<method-wrapper '__add__' of tuple object at 0x0000024692D4D400>\n"
     ]
    }
   ],
   "source": [
    "# Understanding use of dir\n",
    "x = (1,2,3)\n",
    "\n",
    "print(dir(x)) \n",
    "\n",
    "# it list all the attributes and methods available for an object\n",
    "\n",
    "print(x.__add__)"
   ]
  },
  {
   "cell_type": "code",
   "execution_count": 29,
   "id": "dc7737fb",
   "metadata": {},
   "outputs": [
    {
     "name": "stdout",
     "output_type": "stream",
     "text": [
      "{'name': 'Mayank', 'age': 30}\n",
      "Help on class Person in module __main__:\n",
      "\n",
      "class Person(builtins.object)\n",
      " |  Person(name, age)\n",
      " |  \n",
      " |  Methods defined here:\n",
      " |  \n",
      " |  __init__(self, name, age)\n",
      " |      Initialize self.  See help(type(self)) for accurate signature.\n",
      " |  \n",
      " |  ----------------------------------------------------------------------\n",
      " |  Data descriptors defined here:\n",
      " |  \n",
      " |  __dict__\n",
      " |      dictionary for instance variables (if defined)\n",
      " |  \n",
      " |  __weakref__\n",
      " |      list of weak references to the object (if defined)\n",
      "\n",
      "None\n"
     ]
    }
   ],
   "source": [
    "# Understanding use of dict and help method\n",
    "\n",
    "class Person:\n",
    "    def __init__(self, name, age):\n",
    "        self.name = name\n",
    "        self.age = age\n",
    "        \n",
    "p = Person(\"Mayank\",30)\n",
    "print(p.__dict__)\n",
    "\n",
    "print(help(Person))"
   ]
  },
  {
   "cell_type": "markdown",
   "id": "9f47e346",
   "metadata": {},
   "source": [
    "## Super keyword"
   ]
  },
  {
   "cell_type": "code",
   "execution_count": 33,
   "id": "e4de24e4",
   "metadata": {},
   "outputs": [
    {
     "name": "stdout",
     "output_type": "stream",
     "text": [
      "Harry\n",
      "Mayank\n",
      "20\n",
      "Python\n"
     ]
    }
   ],
   "source": [
    "class Employee:\n",
    "    def __init__(self,name,id):\n",
    "        self.name = name\n",
    "        self.id = id\n",
    "\n",
    "class Programmer(Employee):\n",
    "    def __init__(self, name, id, lang):\n",
    "        super().__init__(name, id)\n",
    "        self.lang = lang\n",
    "\n",
    "harry = Employee(\"Harry\",\"10\")\n",
    "mayank = Programmer(\"Mayank\",\"20\",\"Python\")\n",
    "\n",
    "print(harry.name)\n",
    "\n",
    "print(mayank.name)\n",
    "print(mayank.id)\n",
    "print(mayank.lang)"
   ]
  },
  {
   "cell_type": "markdown",
   "id": "28119c23",
   "metadata": {},
   "source": [
    "## Practice"
   ]
  },
  {
   "cell_type": "code",
   "execution_count": 4,
   "id": "a8042181",
   "metadata": {},
   "outputs": [
    {
     "name": "stdout",
     "output_type": "stream",
     "text": [
      "22\n",
      "Not Weird\n"
     ]
    }
   ],
   "source": [
    "\n",
    "n = int(input())\n",
    "\n",
    "if n % 2 != 0:\n",
    "    print(\"Weird\")\n",
    "    \n",
    "elif n % 2 == 0 and n>= 2 and n<=5:\n",
    "    print(\"Not Weird\")\n",
    "    \n",
    "elif n % 2 == 0 and n>= 6 and n<=20:\n",
    "    print(\"Not Weird\")\n",
    "    \n",
    "elif n % 2 == 0 and n>20:\n",
    "    print(\"Not Weird\")"
   ]
  },
  {
   "cell_type": "code",
   "execution_count": 14,
   "id": "ac9b9d95",
   "metadata": {},
   "outputs": [
    {
     "name": "stdout",
     "output_type": "stream",
     "text": [
      "2024\n",
      "False\n"
     ]
    }
   ],
   "source": [
    "def is_leap(year):\n",
    "    leap = False\n",
    "    \n",
    "    # Write your logic here\n",
    "    \n",
    "    if year % 4 == 0 and year % 400 == 0:\n",
    "        if year % 100 == 0:\n",
    "            leap = False\n",
    "        else:\n",
    "            leap = True\n",
    "\n",
    "    return leap\n",
    "\n",
    "year = int(input())\n",
    "\n",
    "result = is_leap(year)\n",
    "\n",
    "print(result)"
   ]
  },
  {
   "cell_type": "code",
   "execution_count": 17,
   "id": "b30fa00c",
   "metadata": {},
   "outputs": [
    {
     "name": "stdout",
     "output_type": "stream",
     "text": [
      "1 2 3 5\n",
      "<map object at 0x000002A7373EF130>\n"
     ]
    }
   ],
   "source": [
    "arr = map(int, input().split())\n",
    "\n",
    "print(arr)"
   ]
  },
  {
   "cell_type": "code",
   "execution_count": null,
   "id": "226fd21d",
   "metadata": {},
   "outputs": [],
   "source": []
  },
  {
   "cell_type": "code",
   "execution_count": null,
   "id": "9de0889f",
   "metadata": {},
   "outputs": [],
   "source": []
  },
  {
   "cell_type": "code",
   "execution_count": null,
   "id": "2084906a",
   "metadata": {},
   "outputs": [],
   "source": []
  },
  {
   "cell_type": "code",
   "execution_count": null,
   "id": "571ba8a6",
   "metadata": {},
   "outputs": [],
   "source": []
  },
  {
   "cell_type": "code",
   "execution_count": null,
   "id": "30922efc",
   "metadata": {},
   "outputs": [],
   "source": []
  },
  {
   "cell_type": "code",
   "execution_count": null,
   "id": "4bb6b818",
   "metadata": {},
   "outputs": [],
   "source": []
  },
  {
   "cell_type": "code",
   "execution_count": null,
   "id": "60b761bd",
   "metadata": {},
   "outputs": [],
   "source": []
  },
  {
   "cell_type": "code",
   "execution_count": null,
   "id": "b4f85078",
   "metadata": {},
   "outputs": [],
   "source": []
  }
 ],
 "metadata": {
  "kernelspec": {
   "display_name": "Python 3 (ipykernel)",
   "language": "python",
   "name": "python3"
  },
  "language_info": {
   "codemirror_mode": {
    "name": "ipython",
    "version": 3
   },
   "file_extension": ".py",
   "mimetype": "text/x-python",
   "name": "python",
   "nbconvert_exporter": "python",
   "pygments_lexer": "ipython3",
   "version": "3.9.12"
  },
  "widgets": {
   "application/vnd.jupyter.widget-state+json": {
    "state": {},
    "version_major": 2,
    "version_minor": 0
   }
  }
 },
 "nbformat": 4,
 "nbformat_minor": 5
}
