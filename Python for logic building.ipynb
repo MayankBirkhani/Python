{
 "cells": [
  {
   "cell_type": "markdown",
   "id": "85e7e32f",
   "metadata": {},
   "source": [
    "# Searching"
   ]
  },
  {
   "cell_type": "code",
   "execution_count": 4,
   "id": "a56e5f0e",
   "metadata": {},
   "outputs": [
    {
     "name": "stdout",
     "output_type": "stream",
     "text": [
      "5\n",
      "4\n",
      "3\n",
      "2\n",
      "1\n"
     ]
    }
   ],
   "source": [
    "### Iterating the list in reverse order using for loop:-\n",
    "\n",
    "list1 = [1,2,3,4,5]\n",
    "\n",
    "length = len(list1)\n",
    "\n",
    "\n",
    "for i in range(length-1,-1,-1):\n",
    "    print(list1[i])"
   ]
  },
  {
   "cell_type": "code",
   "execution_count": 68,
   "id": "6eed112e",
   "metadata": {},
   "outputs": [
    {
     "name": "stdout",
     "output_type": "stream",
     "text": [
      "k\n",
      "n\n",
      "a\n",
      "y\n",
      "a\n",
      "M\n"
     ]
    }
   ],
   "source": [
    "# Iterating the string in reverse order using for loop:-\n",
    "\n",
    "str = \"Mayank\"\n",
    "l = len(str)\n",
    "\n",
    "for s in range(l-1,-1,-1):\n",
    "    print(str[s])\n",
    "\n",
    "    \n",
    "    "
   ]
  },
  {
   "cell_type": "code",
   "execution_count": 8,
   "id": "553f4577",
   "metadata": {},
   "outputs": [
    {
     "name": "stdout",
     "output_type": "stream",
     "text": [
      "k\n",
      "n\n",
      "a\n",
      "y\n",
      "a\n",
      "M\n"
     ]
    }
   ],
   "source": [
    "# Iterating in reverse using while loop\n",
    "\n",
    "str=\"Mayank\"\n",
    "\n",
    "i = len(str)-1\n",
    "\n",
    "while i>=0:\n",
    "    print(str[i])\n",
    "    i-=1"
   ]
  },
  {
   "cell_type": "code",
   "execution_count": 2,
   "id": "87d596e5",
   "metadata": {},
   "outputs": [
    {
     "name": "stdout",
     "output_type": "stream",
     "text": [
      "[5, 4, 3, 2, 1]\n"
     ]
    }
   ],
   "source": [
    "# Reverse a list\n",
    "\n",
    "mylist1 = [1,2,3,4,5]\n",
    "\n",
    "print(mylist1[::-1])\n"
   ]
  },
  {
   "cell_type": "code",
   "execution_count": 1,
   "id": "3e6f103a",
   "metadata": {},
   "outputs": [
    {
     "name": "stdout",
     "output_type": "stream",
     "text": [
      "vahgaR\n",
      "Whole string is reversed ->  reenigne atad a si knayaM\n",
      "Order of words in string is reversed ->  ['engineer', 'data', 'a', 'is', 'Mayank']\n",
      "String words reversed inplace ->  knayaM si a atad reenigne\n"
     ]
    }
   ],
   "source": [
    "# Reverse a string\n",
    "\n",
    "mystr = 'Raghav'\n",
    "print(mystr[::-1])\n",
    "\n",
    "str2 = \"Mayank is a data engineer\"\n",
    "\n",
    "###############################################################\n",
    "print(\"Whole string is reversed -> \",str2[::-1])\n",
    "\n",
    "################################################################\n",
    "str3 = str2.split(\" \")\n",
    "print(\"Order of words in string is reversed -> \",str3[::-1])\n",
    "\n",
    "#################################################################\n",
    "\n",
    "str4 = str2.split()\n",
    "rev_words = [s[::-1] for s in str4]\n",
    "\n",
    "rev_str = ' '.join(rev_words)\n",
    "print(\"String words reversed inplace -> \",rev_str)"
   ]
  },
  {
   "cell_type": "code",
   "execution_count": 11,
   "id": "ce7d45de",
   "metadata": {},
   "outputs": [
    {
     "name": "stdout",
     "output_type": "stream",
     "text": [
      "Mayank m@gmail.com\n",
      "Rohit r@gmail.com\n",
      "Ram ram@gmail.com\n",
      "Mayank m@gmail.com\n",
      "Rohit r@gmail.com\n",
      "Ram ram@gmail.com\n"
     ]
    }
   ],
   "source": [
    "# Iterate dictionary\n",
    "\n",
    "emails = {\"Mayank\": \"m@gmail.com\",\n",
    "         \"Rohit\": \"r@gmail.com\",\n",
    "         \"Ram\": \"ram@gmail.com\"}\n",
    "\n",
    "# One way:- \n",
    "for k in emails:\n",
    "    print(k,emails[k])\n",
    "    \n",
    "\n",
    "# Another way:-\n",
    "for k,v in emails.items():\n",
    "    print(k,v)"
   ]
  },
  {
   "cell_type": "code",
   "execution_count": 12,
   "id": "2f16ea6a",
   "metadata": {},
   "outputs": [
    {
     "name": "stdout",
     "output_type": "stream",
     "text": [
      "Bon apetite\n"
     ]
    }
   ],
   "source": [
    "# Check if an item is in the list:-\n",
    "\n",
    "myfood = [\"pizza\",\"burger\",\"rice\",\"noodles\"]\n",
    "\n",
    "if \"rice\" in myfood:\n",
    "    print(\"Bon apetite\")\n",
    "else:\n",
    "    print(\"Still Hungry\")"
   ]
  },
  {
   "cell_type": "code",
   "execution_count": 20,
   "id": "a8821ebe",
   "metadata": {},
   "outputs": [
    {
     "data": {
      "text/plain": [
       "'\\nfor c in range(0,length-1):\\n    print(c,myset[c])\\n    \\n'"
      ]
     },
     "execution_count": 20,
     "metadata": {},
     "output_type": "execute_result"
    }
   ],
   "source": [
    "# Iterate set using for loop and print values as well as index\n",
    "\n",
    "myset = {'black','white','pink'}\n",
    "length = len(myset)\n",
    "\n",
    "\n",
    "\n",
    "'''\n",
    "for c in range(0,length-1):\n",
    "    print(c,myset[c])\n",
    "    \n",
    "'''"
   ]
  },
  {
   "cell_type": "code",
   "execution_count": 27,
   "id": "59d14a9a",
   "metadata": {},
   "outputs": [
    {
     "name": "stdout",
     "output_type": "stream",
     "text": [
      "num found at index 3\n"
     ]
    }
   ],
   "source": [
    "# Todo\n",
    "\n",
    "# Linear Search Program\n",
    "\n",
    "arr = [3,5,2,1,6]\n",
    "\n",
    "pos = -1\n",
    "n = 1\n",
    "\n",
    "for i in arr:\n",
    "    pos+=1\n",
    "    if i == n:\n",
    "        print(\"num found at index {}\".format(pos))\n",
    "        flag = 1\n",
    "\n",
    "if flag==-1:\n",
    "    print(\"num no found!\")\n",
    "    \n"
   ]
  },
  {
   "cell_type": "code",
   "execution_count": null,
   "id": "b6abc619",
   "metadata": {},
   "outputs": [],
   "source": [
    "# Binary Search Program\n",
    "\n"
   ]
  },
  {
   "cell_type": "code",
   "execution_count": 40,
   "id": "a3797994",
   "metadata": {},
   "outputs": [
    {
     "name": "stdout",
     "output_type": "stream",
     "text": [
      "[1, 2, 3, 4, 5, 7, 8]\n"
     ]
    }
   ],
   "source": [
    "# Bubble sort program\n",
    "\n",
    "def bubble_sort(arr):\n",
    "    size=len(arr)\n",
    "    \n",
    "    for i in range(size-1):\n",
    "        for j in range(size-1-i):\n",
    "            if arr[j]>arr[j+1]:\n",
    "                temp=arr[j]\n",
    "                arr[j]=arr[j+1]\n",
    "                arr[j+1]=temp\n",
    "\n",
    "\n",
    "    \n",
    "\n",
    "arr = [2,7,1,5,8,3,4]\n",
    "\n",
    "\n",
    "bubble_sort(arr)\n",
    "print(arr)\n",
    "\n"
   ]
  },
  {
   "cell_type": "code",
   "execution_count": 57,
   "id": "9909baa4",
   "metadata": {},
   "outputs": [
    {
     "name": "stdout",
     "output_type": "stream",
     "text": [
      "7\n",
      "Highest element of list  80\n",
      "Second element of list  70\n"
     ]
    }
   ],
   "source": [
    "# Find the highest number is the list\n",
    "# Find the second highest number in the list\n",
    "\n",
    "list2 = [2,7,1,5,8,3,4]\n",
    "\n",
    "# Using sort function\n",
    "list2.sort()\n",
    "print(list2[-2])\n",
    "\n",
    "\n",
    "# Using bubble sort\n",
    "\n",
    "\n",
    "def sort_arr(list2):\n",
    "    size = len(list2)\n",
    "    for i in range(size-1):\n",
    "        for j in range(size-1-i):\n",
    "            if list2[j] > list2[j+1]:\n",
    "                temp = list2[j]\n",
    "                list2[j]= list2[j+1]\n",
    "                list2[j+1]=temp\n",
    "\n",
    "list3 = [20,70,10,50,80,30,40]\n",
    "sort_arr(list3)\n",
    "\n",
    "print(\"Highest element of list \",list3[-1])\n",
    "print(\"Second element of list \",list3[-2])\n",
    "            \n"
   ]
  },
  {
   "cell_type": "code",
   "execution_count": null,
   "id": "c446156e",
   "metadata": {},
   "outputs": [],
   "source": [
    "\n",
    "\n",
    "# Find the set of elements who has sum=7\n",
    "\n",
    "# Valid paranthesis\n",
    "\n",
    "\n",
    "\n"
   ]
  },
  {
   "cell_type": "code",
   "execution_count": 58,
   "id": "36de486e",
   "metadata": {},
   "outputs": [
    {
     "name": "stdout",
     "output_type": "stream",
     "text": [
      "[1, 2, 3, 4, 5]\n"
     ]
    }
   ],
   "source": [
    "# Remove the duplicate numbers from the list\n",
    "\n",
    "list4 = [2,2,1,5,3,4,3,5]\n",
    "\n",
    "new_list4 = list(set(list4))\n",
    "\n",
    "print(new_list4)"
   ]
  },
  {
   "cell_type": "code",
   "execution_count": 60,
   "id": "33059293",
   "metadata": {},
   "outputs": [
    {
     "name": "stdout",
     "output_type": "stream",
     "text": [
      "2\n",
      "5\n",
      "3\n",
      "3\n",
      "3\n",
      "3\n",
      "3\n",
      "3\n"
     ]
    }
   ],
   "source": [
    "# Print duplicate number from the list (solved using loops)\n",
    "\n",
    "list5 = [2,2,1,5,3,4,3,5,3,3]\n",
    "\n",
    "for i in range(0,len(list5)):\n",
    "    for j in range(i+1,len(list5)):\n",
    "        if list5[i]==list5[j]:\n",
    "            print(list5[j])\n",
    "    \n",
    "    \n",
    "    "
   ]
  },
  {
   "cell_type": "code",
   "execution_count": null,
   "id": "86ec1b9b",
   "metadata": {},
   "outputs": [],
   "source": [
    "# Print duplicate number from the list (solved using set)"
   ]
  },
  {
   "cell_type": "code",
   "execution_count": null,
   "id": "5d3f7fd3",
   "metadata": {},
   "outputs": [],
   "source": []
  },
  {
   "cell_type": "code",
   "execution_count": null,
   "id": "e7373525",
   "metadata": {},
   "outputs": [],
   "source": []
  },
  {
   "cell_type": "code",
   "execution_count": null,
   "id": "dcbc1e40",
   "metadata": {},
   "outputs": [],
   "source": []
  },
  {
   "cell_type": "code",
   "execution_count": null,
   "id": "0d3be79a",
   "metadata": {},
   "outputs": [],
   "source": []
  },
  {
   "cell_type": "code",
   "execution_count": null,
   "id": "ac9f9143",
   "metadata": {},
   "outputs": [],
   "source": []
  },
  {
   "cell_type": "code",
   "execution_count": null,
   "id": "7b25baa1",
   "metadata": {},
   "outputs": [],
   "source": []
  },
  {
   "cell_type": "code",
   "execution_count": null,
   "id": "92ad7f32",
   "metadata": {},
   "outputs": [],
   "source": []
  },
  {
   "cell_type": "code",
   "execution_count": null,
   "id": "e10fe6be",
   "metadata": {},
   "outputs": [],
   "source": []
  },
  {
   "cell_type": "code",
   "execution_count": null,
   "id": "f5cdc306",
   "metadata": {},
   "outputs": [],
   "source": []
  }
 ],
 "metadata": {
  "kernelspec": {
   "display_name": "Python 3 (ipykernel)",
   "language": "python",
   "name": "python3"
  },
  "language_info": {
   "codemirror_mode": {
    "name": "ipython",
    "version": 3
   },
   "file_extension": ".py",
   "mimetype": "text/x-python",
   "name": "python",
   "nbconvert_exporter": "python",
   "pygments_lexer": "ipython3",
   "version": "3.9.12"
  }
 },
 "nbformat": 4,
 "nbformat_minor": 5
}
