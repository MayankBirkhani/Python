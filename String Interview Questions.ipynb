{
 "cells": [
  {
   "cell_type": "code",
   "execution_count": 12,
   "id": "3d541dec",
   "metadata": {},
   "outputs": [
    {
     "name": "stdout",
     "output_type": "stream",
     "text": [
      "['i', 'like', 'this', 'program', 'very', 'much']\n",
      "['much', 'very', 'program', 'this', 'like', 'i']\n",
      "much very program this like i\n"
     ]
    }
   ],
   "source": [
    "s = \"i like this program very much\"\n",
    "words = s.split(' ')\n",
    "print(words)\n",
    "string = []\n",
    "\n",
    "for word in words:\n",
    "    string.insert(0,word)\n",
    "    \n",
    "print(string)\n",
    "print(\" \".join(string))"
   ]
  },
  {
   "cell_type": "code",
   "execution_count": 13,
   "id": "b694fef3",
   "metadata": {},
   "outputs": [
    {
     "name": "stdout",
     "output_type": "stream",
     "text": [
      "True\n"
     ]
    }
   ],
   "source": [
    "def is_palindrome(string):\n",
    "  \"\"\"Checks if the given string is a palindrome.\n",
    "\n",
    "  Args:\n",
    "    string: A string.\n",
    "\n",
    "  Returns:\n",
    "    True if the string is a palindrome, False otherwise.\n",
    "  \"\"\"\n",
    "\n",
    "  return string[::-1] == string\n",
    "\n",
    "string = \"racecar\"\n",
    "is_palindrome = is_palindrome(string)\n",
    "print(is_palindrome)"
   ]
  },
  {
   "cell_type": "code",
   "execution_count": 15,
   "id": "bbd56e92",
   "metadata": {},
   "outputs": [
    {
     "name": "stdout",
     "output_type": "stream",
     "text": [
      "helo wrd\n"
     ]
    }
   ],
   "source": [
    "def remove_duplicate_characters(string):\n",
    "  \"\"\"Removes all duplicate characters from the given string.\n",
    "\n",
    "  Args:\n",
    "    string: A string.\n",
    "\n",
    "  Returns:\n",
    "    A string with no duplicate characters.\n",
    "  \"\"\"\n",
    "\n",
    "  seen = set()\n",
    "  unique_string = \"\"\n",
    "  for character in string:\n",
    "    if character not in seen:\n",
    "      seen.add(character)\n",
    "      unique_string += character\n",
    "  return unique_string\n",
    "\n",
    "\n",
    "string = \"hello world\"\n",
    "unique_string = remove_duplicate_characters(string)\n",
    "print(unique_string)"
   ]
  },
  {
   "cell_type": "code",
   "execution_count": 17,
   "id": "2f614f6d",
   "metadata": {},
   "outputs": [
    {
     "name": "stdout",
     "output_type": "stream",
     "text": [
      "h\n",
      "1\n",
      "e\n",
      "1\n",
      "l\n",
      "3\n",
      "l\n",
      "3\n",
      "o\n",
      "2\n",
      " \n",
      "1\n",
      "w\n",
      "1\n",
      "o\n",
      "2\n",
      "r\n",
      "1\n",
      "l\n",
      "3\n",
      "d\n",
      "1\n",
      "l\n"
     ]
    }
   ],
   "source": [
    "def most_frequent_character(string):\n",
    "  \"\"\"Finds the most frequent character in the given string.\n",
    "\n",
    "  Args:\n",
    "    string: A string.\n",
    "\n",
    "  Returns:\n",
    "    The most frequent character in the string.\n",
    "  \"\"\"\n",
    "\n",
    "  max_count = 0\n",
    "  most_frequent_character = \"\"\n",
    "  for character in string:\n",
    "    count = string.count(character)\n",
    "    print(character)\n",
    "    print(count)\n",
    "    if count > max_count:\n",
    "      max_count = count\n",
    "      most_frequent_character = character\n",
    "\n",
    "  return most_frequent_character\n",
    "\n",
    "string = \"hello world\"\n",
    "most_frequent_character = most_frequent_character(string)\n",
    "print(most_frequent_character)"
   ]
  },
  {
   "cell_type": "code",
   "execution_count": 20,
   "id": "35541774",
   "metadata": {},
   "outputs": [
    {
     "name": "stdout",
     "output_type": "stream",
     "text": [
      "{'h': 0}\n",
      "{'h': 1}\n",
      "{'h': 1, 'e': 0}\n",
      "{'h': 1, 'e': 1}\n",
      "{'h': 1, 'e': 1, 'l': 0}\n",
      "{'h': 1, 'e': 1, 'l': 1}\n",
      "{'h': 1, 'e': 1, 'l': 2}\n",
      "{'h': 1, 'e': 1, 'l': 2, 'o': 0}\n",
      "{'h': 1, 'e': 1, 'l': 2, 'o': 1}\n",
      "{'h': 1, 'e': 1, 'l': 2, 'o': 1, ' ': 0}\n",
      "{'h': 1, 'e': 1, 'l': 2, 'o': 1, ' ': 1}\n",
      "{'h': 1, 'e': 1, 'l': 2, 'o': 1, ' ': 1, 'w': 0}\n",
      "{'h': 1, 'e': 1, 'l': 2, 'o': 1, ' ': 1, 'w': 1}\n",
      "{'h': 1, 'e': 1, 'l': 2, 'o': 2, ' ': 1, 'w': 1}\n",
      "{'h': 1, 'e': 1, 'l': 2, 'o': 2, ' ': 1, 'w': 1, 'r': 0}\n",
      "{'h': 1, 'e': 1, 'l': 2, 'o': 2, ' ': 1, 'w': 1, 'r': 1}\n",
      "{'h': 1, 'e': 1, 'l': 3, 'o': 2, ' ': 1, 'w': 1, 'r': 1}\n",
      "{'h': 1, 'e': 1, 'l': 3, 'o': 2, ' ': 1, 'w': 1, 'r': 1, 'd': 0}\n",
      "{'h': 1, 'e': 1, 'l': 3, 'o': 2, ' ': 1, 'w': 1, 'r': 1, 'd': 1}\n",
      "l\n"
     ]
    }
   ],
   "source": [
    "def most_frequent_character(string):\n",
    "  \"\"\"Finds the most frequent character in the given string.\n",
    "\n",
    "  Args:\n",
    "    string: A string.\n",
    "\n",
    "  Returns:\n",
    "    The most frequent character in the string.\n",
    "  \"\"\"\n",
    "\n",
    "  character_counts = {}\n",
    "  for character in string:\n",
    "    if character not in character_counts:\n",
    "      character_counts[character] = 0\n",
    "      print(character_counts)\n",
    "    character_counts[character] += 1\n",
    "    print(character_counts)\n",
    "\n",
    "  most_frequent_character = \"\"\n",
    "  most_frequent_count = 0\n",
    "  for character, count in character_counts.items():\n",
    "    if count > most_frequent_count:\n",
    "      most_frequent_character = character\n",
    "      most_frequent_count = count\n",
    "\n",
    "  return most_frequent_character\n",
    "\n",
    "string = \"hello world\"\n",
    "most_frequent_character = most_frequent_character(string)\n",
    "print(most_frequent_character)"
   ]
  },
  {
   "cell_type": "code",
   "execution_count": null,
   "id": "998f15c4",
   "metadata": {},
   "outputs": [],
   "source": []
  }
 ],
 "metadata": {
  "kernelspec": {
   "display_name": "Python 3 (ipykernel)",
   "language": "python",
   "name": "python3"
  },
  "language_info": {
   "codemirror_mode": {
    "name": "ipython",
    "version": 3
   },
   "file_extension": ".py",
   "mimetype": "text/x-python",
   "name": "python",
   "nbconvert_exporter": "python",
   "pygments_lexer": "ipython3",
   "version": "3.9.12"
  }
 },
 "nbformat": 4,
 "nbformat_minor": 5
}
